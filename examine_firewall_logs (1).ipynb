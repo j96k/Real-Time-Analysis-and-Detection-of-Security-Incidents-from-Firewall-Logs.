{
 "cells": [
  {
   "cell_type": "markdown",
   "id": "48284fa1",
   "metadata": {
    "id": "48284fa1"
   },
   "source": [
    "## Install Dependencies"
   ]
  },
  {
   "cell_type": "code",
   "execution_count": 1,
   "id": "3f952a2e-4381-47e4-bfd4-deb755b2cada",
   "metadata": {
    "executionInfo": {
     "elapsed": 9090,
     "status": "ok",
     "timestamp": 1736364028282,
     "user": {
      "displayName": "nilesh borana",
      "userId": "07385060709907603481"
     },
     "user_tz": -330
    },
    "id": "3f952a2e-4381-47e4-bfd4-deb755b2cada"
   },
   "outputs": [],
   "source": [
    "import pandas as pd\n",
    "import seaborn as sns\n",
    "import matplotlib.pyplot as plt\n",
    "import numpy as np\n",
    "import datetime\n",
    "from sklearn.ensemble import IsolationForest\n",
    "from sklearn.model_selection import train_test_split\n",
    "from sklearn.ensemble import RandomForestClassifier\n",
    "from sklearn.metrics import accuracy_score, classification_report, roc_auc_score, roc_curve, confusion_matrix\n",
    "from sklearn.preprocessing import LabelEncoder\n",
    "from sklearn.utils.class_weight import compute_class_weight"
   ]
  },
  {
   "cell_type": "markdown",
   "id": "dd6e8b6e",
   "metadata": {
    "id": "dd6e8b6e"
   },
   "source": [
    "## Step 2: Load Dataset"
   ]
  },
  {
   "cell_type": "code",
   "execution_count": 2,
   "id": "Yn6YwlRyeAdC",
   "metadata": {
    "colab": {
     "base_uri": "https://localhost:8080/"
    },
    "executionInfo": {
     "elapsed": 26183,
     "status": "ok",
     "timestamp": 1736364054457,
     "user": {
      "displayName": "nilesh borana",
      "userId": "07385060709907603481"
     },
     "user_tz": -330
    },
    "id": "Yn6YwlRyeAdC",
    "outputId": "51676880-f738-492a-c33a-737d0bc4d1af"
   },
   "outputs": [
    {
     "name": "stdout",
     "output_type": "stream",
     "text": [
      "Mounted at /content/drive\n"
     ]
    }
   ],
   "source": [
    "from google.colab import drive\n",
    "drive.mount('/content/drive')"
   ]
  },
  {
   "cell_type": "code",
   "execution_count": 7,
   "id": "e9c7c7cd-b8bd-4399-8d61-cbbd9bcf81e5",
   "metadata": {
    "executionInfo": {
     "elapsed": 902,
     "status": "ok",
     "timestamp": 1736364317878,
     "user": {
      "displayName": "nilesh borana",
      "userId": "07385060709907603481"
     },
     "user_tz": -330
    },
    "id": "e9c7c7cd-b8bd-4399-8d61-cbbd9bcf81e5"
   },
   "outputs": [],
   "source": [
    "# Load data\n",
    "data = pd.read_csv('log2.csv')"
   ]
  },
  {
   "cell_type": "markdown",
   "id": "f846a279",
   "metadata": {
    "id": "f846a279"
   },
   "source": [
    "## Exploratory Data Analysis (EDA)"
   ]
  },
  {
   "cell_type": "code",
   "execution_count": 78,
   "id": "00230e27-2f53-4bce-98a4-86674cb563ec",
   "metadata": {},
   "outputs": [
    {
     "data": {
      "text/html": [
       "<div>\n",
       "<style scoped>\n",
       "    .dataframe tbody tr th:only-of-type {\n",
       "        vertical-align: middle;\n",
       "    }\n",
       "\n",
       "    .dataframe tbody tr th {\n",
       "        vertical-align: top;\n",
       "    }\n",
       "\n",
       "    .dataframe thead th {\n",
       "        text-align: right;\n",
       "    }\n",
       "</style>\n",
       "<table border=\"1\" class=\"dataframe\">\n",
       "  <thead>\n",
       "    <tr style=\"text-align: right;\">\n",
       "      <th></th>\n",
       "      <th>Source Port</th>\n",
       "      <th>Destination Port</th>\n",
       "      <th>NAT Source Port</th>\n",
       "      <th>NAT Destination Port</th>\n",
       "      <th>Action</th>\n",
       "      <th>Bytes</th>\n",
       "      <th>Bytes Sent</th>\n",
       "      <th>Bytes Received</th>\n",
       "      <th>Packets</th>\n",
       "      <th>Elapsed Time (sec)</th>\n",
       "      <th>pkts_sent</th>\n",
       "      <th>pkts_received</th>\n",
       "    </tr>\n",
       "  </thead>\n",
       "  <tbody>\n",
       "    <tr>\n",
       "      <th>0</th>\n",
       "      <td>57222</td>\n",
       "      <td>53</td>\n",
       "      <td>54587</td>\n",
       "      <td>53</td>\n",
       "      <td>allow</td>\n",
       "      <td>177</td>\n",
       "      <td>94</td>\n",
       "      <td>83</td>\n",
       "      <td>2</td>\n",
       "      <td>30</td>\n",
       "      <td>1</td>\n",
       "      <td>1</td>\n",
       "    </tr>\n",
       "    <tr>\n",
       "      <th>1</th>\n",
       "      <td>56258</td>\n",
       "      <td>3389</td>\n",
       "      <td>56258</td>\n",
       "      <td>3389</td>\n",
       "      <td>allow</td>\n",
       "      <td>4768</td>\n",
       "      <td>1600</td>\n",
       "      <td>3168</td>\n",
       "      <td>19</td>\n",
       "      <td>17</td>\n",
       "      <td>10</td>\n",
       "      <td>9</td>\n",
       "    </tr>\n",
       "    <tr>\n",
       "      <th>2</th>\n",
       "      <td>6881</td>\n",
       "      <td>50321</td>\n",
       "      <td>43265</td>\n",
       "      <td>50321</td>\n",
       "      <td>allow</td>\n",
       "      <td>238</td>\n",
       "      <td>118</td>\n",
       "      <td>120</td>\n",
       "      <td>2</td>\n",
       "      <td>1199</td>\n",
       "      <td>1</td>\n",
       "      <td>1</td>\n",
       "    </tr>\n",
       "    <tr>\n",
       "      <th>3</th>\n",
       "      <td>50553</td>\n",
       "      <td>3389</td>\n",
       "      <td>50553</td>\n",
       "      <td>3389</td>\n",
       "      <td>allow</td>\n",
       "      <td>3327</td>\n",
       "      <td>1438</td>\n",
       "      <td>1889</td>\n",
       "      <td>15</td>\n",
       "      <td>17</td>\n",
       "      <td>8</td>\n",
       "      <td>7</td>\n",
       "    </tr>\n",
       "    <tr>\n",
       "      <th>4</th>\n",
       "      <td>50002</td>\n",
       "      <td>443</td>\n",
       "      <td>45848</td>\n",
       "      <td>443</td>\n",
       "      <td>allow</td>\n",
       "      <td>25358</td>\n",
       "      <td>6778</td>\n",
       "      <td>18580</td>\n",
       "      <td>31</td>\n",
       "      <td>16</td>\n",
       "      <td>13</td>\n",
       "      <td>18</td>\n",
       "    </tr>\n",
       "  </tbody>\n",
       "</table>\n",
       "</div>"
      ],
      "text/plain": [
       "   Source Port  Destination Port  NAT Source Port  NAT Destination Port  \\\n",
       "0        57222                53            54587                    53   \n",
       "1        56258              3389            56258                  3389   \n",
       "2         6881             50321            43265                 50321   \n",
       "3        50553              3389            50553                  3389   \n",
       "4        50002               443            45848                   443   \n",
       "\n",
       "  Action  Bytes  Bytes Sent  Bytes Received  Packets  Elapsed Time (sec)  \\\n",
       "0  allow    177          94              83        2                  30   \n",
       "1  allow   4768        1600            3168       19                  17   \n",
       "2  allow    238         118             120        2                1199   \n",
       "3  allow   3327        1438            1889       15                  17   \n",
       "4  allow  25358        6778           18580       31                  16   \n",
       "\n",
       "   pkts_sent  pkts_received  \n",
       "0          1              1  \n",
       "1         10              9  \n",
       "2          1              1  \n",
       "3          8              7  \n",
       "4         13             18  "
      ]
     },
     "execution_count": 78,
     "metadata": {},
     "output_type": "execute_result"
    }
   ],
   "source": [
    "data.head()"
   ]
  },
  {
   "cell_type": "code",
   "execution_count": 79,
   "id": "75b6d2e3-6f3c-48e8-a38a-7d7123965f97",
   "metadata": {
    "colab": {
     "base_uri": "https://localhost:8080/",
     "height": 300
    },
    "executionInfo": {
     "elapsed": 450,
     "status": "ok",
     "timestamp": 1736364320591,
     "user": {
      "displayName": "nilesh borana",
      "userId": "07385060709907603481"
     },
     "user_tz": -330
    },
    "id": "75b6d2e3-6f3c-48e8-a38a-7d7123965f97",
    "outputId": "e29b453e-2be4-4e6f-a5be-fad0a7e7cabf"
   },
   "outputs": [
    {
     "data": {
      "text/html": [
       "<div>\n",
       "<style scoped>\n",
       "    .dataframe tbody tr th:only-of-type {\n",
       "        vertical-align: middle;\n",
       "    }\n",
       "\n",
       "    .dataframe tbody tr th {\n",
       "        vertical-align: top;\n",
       "    }\n",
       "\n",
       "    .dataframe thead th {\n",
       "        text-align: right;\n",
       "    }\n",
       "</style>\n",
       "<table border=\"1\" class=\"dataframe\">\n",
       "  <thead>\n",
       "    <tr style=\"text-align: right;\">\n",
       "      <th></th>\n",
       "      <th>Source Port</th>\n",
       "      <th>Destination Port</th>\n",
       "      <th>NAT Source Port</th>\n",
       "      <th>NAT Destination Port</th>\n",
       "      <th>Bytes</th>\n",
       "      <th>Bytes Sent</th>\n",
       "      <th>Bytes Received</th>\n",
       "      <th>Packets</th>\n",
       "      <th>Elapsed Time (sec)</th>\n",
       "      <th>pkts_sent</th>\n",
       "      <th>pkts_received</th>\n",
       "    </tr>\n",
       "  </thead>\n",
       "  <tbody>\n",
       "    <tr>\n",
       "      <th>count</th>\n",
       "      <td>65532.000000</td>\n",
       "      <td>65532.000000</td>\n",
       "      <td>65532.000000</td>\n",
       "      <td>65532.000000</td>\n",
       "      <td>6.553200e+04</td>\n",
       "      <td>6.553200e+04</td>\n",
       "      <td>6.553200e+04</td>\n",
       "      <td>6.553200e+04</td>\n",
       "      <td>65532.000000</td>\n",
       "      <td>65532.000000</td>\n",
       "      <td>65532.000000</td>\n",
       "    </tr>\n",
       "    <tr>\n",
       "      <th>mean</th>\n",
       "      <td>49391.969343</td>\n",
       "      <td>10577.385812</td>\n",
       "      <td>19282.972761</td>\n",
       "      <td>2671.049930</td>\n",
       "      <td>9.712395e+04</td>\n",
       "      <td>2.238580e+04</td>\n",
       "      <td>7.473815e+04</td>\n",
       "      <td>1.028660e+02</td>\n",
       "      <td>65.833577</td>\n",
       "      <td>41.399530</td>\n",
       "      <td>61.466505</td>\n",
       "    </tr>\n",
       "    <tr>\n",
       "      <th>std</th>\n",
       "      <td>15255.712537</td>\n",
       "      <td>18466.027039</td>\n",
       "      <td>21970.689669</td>\n",
       "      <td>9739.162278</td>\n",
       "      <td>5.618439e+06</td>\n",
       "      <td>3.828139e+06</td>\n",
       "      <td>2.463208e+06</td>\n",
       "      <td>5.133002e+03</td>\n",
       "      <td>302.461762</td>\n",
       "      <td>3218.871288</td>\n",
       "      <td>2223.332271</td>\n",
       "    </tr>\n",
       "    <tr>\n",
       "      <th>min</th>\n",
       "      <td>0.000000</td>\n",
       "      <td>0.000000</td>\n",
       "      <td>0.000000</td>\n",
       "      <td>0.000000</td>\n",
       "      <td>6.000000e+01</td>\n",
       "      <td>6.000000e+01</td>\n",
       "      <td>0.000000e+00</td>\n",
       "      <td>1.000000e+00</td>\n",
       "      <td>0.000000</td>\n",
       "      <td>1.000000</td>\n",
       "      <td>0.000000</td>\n",
       "    </tr>\n",
       "    <tr>\n",
       "      <th>25%</th>\n",
       "      <td>49183.000000</td>\n",
       "      <td>80.000000</td>\n",
       "      <td>0.000000</td>\n",
       "      <td>0.000000</td>\n",
       "      <td>6.600000e+01</td>\n",
       "      <td>6.600000e+01</td>\n",
       "      <td>0.000000e+00</td>\n",
       "      <td>1.000000e+00</td>\n",
       "      <td>0.000000</td>\n",
       "      <td>1.000000</td>\n",
       "      <td>0.000000</td>\n",
       "    </tr>\n",
       "    <tr>\n",
       "      <th>50%</th>\n",
       "      <td>53776.500000</td>\n",
       "      <td>445.000000</td>\n",
       "      <td>8820.500000</td>\n",
       "      <td>53.000000</td>\n",
       "      <td>1.680000e+02</td>\n",
       "      <td>9.000000e+01</td>\n",
       "      <td>7.900000e+01</td>\n",
       "      <td>2.000000e+00</td>\n",
       "      <td>15.000000</td>\n",
       "      <td>1.000000</td>\n",
       "      <td>1.000000</td>\n",
       "    </tr>\n",
       "    <tr>\n",
       "      <th>75%</th>\n",
       "      <td>58638.000000</td>\n",
       "      <td>15000.000000</td>\n",
       "      <td>38366.250000</td>\n",
       "      <td>443.000000</td>\n",
       "      <td>7.522500e+02</td>\n",
       "      <td>2.100000e+02</td>\n",
       "      <td>4.490000e+02</td>\n",
       "      <td>6.000000e+00</td>\n",
       "      <td>30.000000</td>\n",
       "      <td>3.000000</td>\n",
       "      <td>2.000000</td>\n",
       "    </tr>\n",
       "    <tr>\n",
       "      <th>max</th>\n",
       "      <td>65534.000000</td>\n",
       "      <td>65535.000000</td>\n",
       "      <td>65535.000000</td>\n",
       "      <td>65535.000000</td>\n",
       "      <td>1.269359e+09</td>\n",
       "      <td>9.484772e+08</td>\n",
       "      <td>3.208818e+08</td>\n",
       "      <td>1.036116e+06</td>\n",
       "      <td>10824.000000</td>\n",
       "      <td>747520.000000</td>\n",
       "      <td>327208.000000</td>\n",
       "    </tr>\n",
       "  </tbody>\n",
       "</table>\n",
       "</div>"
      ],
      "text/plain": [
       "        Source Port  Destination Port  NAT Source Port  NAT Destination Port  \\\n",
       "count  65532.000000      65532.000000     65532.000000          65532.000000   \n",
       "mean   49391.969343      10577.385812     19282.972761           2671.049930   \n",
       "std    15255.712537      18466.027039     21970.689669           9739.162278   \n",
       "min        0.000000          0.000000         0.000000              0.000000   \n",
       "25%    49183.000000         80.000000         0.000000              0.000000   \n",
       "50%    53776.500000        445.000000      8820.500000             53.000000   \n",
       "75%    58638.000000      15000.000000     38366.250000            443.000000   \n",
       "max    65534.000000      65535.000000     65535.000000          65535.000000   \n",
       "\n",
       "              Bytes    Bytes Sent  Bytes Received       Packets  \\\n",
       "count  6.553200e+04  6.553200e+04    6.553200e+04  6.553200e+04   \n",
       "mean   9.712395e+04  2.238580e+04    7.473815e+04  1.028660e+02   \n",
       "std    5.618439e+06  3.828139e+06    2.463208e+06  5.133002e+03   \n",
       "min    6.000000e+01  6.000000e+01    0.000000e+00  1.000000e+00   \n",
       "25%    6.600000e+01  6.600000e+01    0.000000e+00  1.000000e+00   \n",
       "50%    1.680000e+02  9.000000e+01    7.900000e+01  2.000000e+00   \n",
       "75%    7.522500e+02  2.100000e+02    4.490000e+02  6.000000e+00   \n",
       "max    1.269359e+09  9.484772e+08    3.208818e+08  1.036116e+06   \n",
       "\n",
       "       Elapsed Time (sec)      pkts_sent  pkts_received  \n",
       "count        65532.000000   65532.000000   65532.000000  \n",
       "mean            65.833577      41.399530      61.466505  \n",
       "std            302.461762    3218.871288    2223.332271  \n",
       "min              0.000000       1.000000       0.000000  \n",
       "25%              0.000000       1.000000       0.000000  \n",
       "50%             15.000000       1.000000       1.000000  \n",
       "75%             30.000000       3.000000       2.000000  \n",
       "max          10824.000000  747520.000000  327208.000000  "
      ]
     },
     "execution_count": 79,
     "metadata": {},
     "output_type": "execute_result"
    }
   ],
   "source": [
    "data.describe()"
   ]
  },
  {
   "cell_type": "code",
   "execution_count": 80,
   "id": "8b6ec674-c305-457c-a3c7-eb888bd9fee5",
   "metadata": {
    "colab": {
     "base_uri": "https://localhost:8080/",
     "height": 241
    },
    "executionInfo": {
     "elapsed": 17,
     "status": "ok",
     "timestamp": 1736364322049,
     "user": {
      "displayName": "nilesh borana",
      "userId": "07385060709907603481"
     },
     "user_tz": -330
    },
    "id": "8b6ec674-c305-457c-a3c7-eb888bd9fee5",
    "outputId": "a684c8d2-f578-4c04-e8c4-6ed8dfc4edd9"
   },
   "outputs": [
    {
     "data": {
      "text/plain": [
       "allow         37640\n",
       "deny          14987\n",
       "drop          12851\n",
       "reset-both       54\n",
       "Name: Action, dtype: int64"
      ]
     },
     "execution_count": 80,
     "metadata": {},
     "output_type": "execute_result"
    }
   ],
   "source": [
    "data['Action'].value_counts()"
   ]
  },
  {
   "cell_type": "markdown",
   "id": "cd94f5f4",
   "metadata": {
    "id": "cd94f5f4"
   },
   "source": [
    "## Visualize"
   ]
  },
  {
   "cell_type": "code",
   "execution_count": 10,
   "id": "aef1615d-f7c1-459b-81de-4211c3c56f84",
   "metadata": {
    "colab": {
     "base_uri": "https://localhost:8080/",
     "height": 622
    },
    "executionInfo": {
     "elapsed": 564,
     "status": "ok",
     "timestamp": 1736364388005,
     "user": {
      "displayName": "nilesh borana",
      "userId": "07385060709907603481"
     },
     "user_tz": -330
    },
    "id": "aef1615d-f7c1-459b-81de-4211c3c56f84",
    "outputId": "bd373e70-c70c-4c9b-9a25-02df2618982a"
   },
   "outputs": [
    {
     "data": {
      "image/png": "[encoded data removed]",
      "text/plain": [
       "<Figure size 1000x600 with 1 Axes>"
      ]
     },
     "metadata": {},
     "output_type": "display_data"
    }
   ],
   "source": [
    "# Action Distribution\n",
    "plt.figure(figsize=(10, 6))\n",
    "data['Action'].value_counts().plot(kind='bar', color=['green', 'red', 'blue', 'orange'])\n",
    "plt.title(\"Action Distribution\")\n",
    "plt.xlabel(\"Action\")\n",
    "plt.ylabel(\"Frequency\")\n",
    "# Save the plot\n",
    "plt.savefig('Action Distribution.png')\n",
    "plt.show()"
   ]
  },
  {
   "cell_type": "markdown",
   "id": "411d5daf-610f-4f96-ab65-b3fbd8eae55c",
   "metadata": {
    "id": "411d5daf-610f-4f96-ab65-b3fbd8eae55c"
   },
   "source": [
    "The purpose of this graph is to visualize the distribution of actions (Action) in the dataset. By creating a count plot, we can quickly understand how often each action (e.g. \"allow\",\"deny\",\"drop\" or \"reset-both\") occurs."
   ]
  },
  {
   "cell_type": "code",
   "execution_count": 11,
   "id": "7705f53c-743e-4235-afe4-2f4d409a1592",
   "metadata": {
    "colab": {
     "base_uri": "https://localhost:8080/",
     "height": 718
    },
    "executionInfo": {
     "elapsed": 1205,
     "status": "ok",
     "timestamp": 1736365310589,
     "user": {
      "displayName": "nilesh borana",
      "userId": "07385060709907603481"
     },
     "user_tz": -330
    },
    "id": "7705f53c-743e-4235-afe4-2f4d409a1592",
    "outputId": "402f1974-0c3d-466c-cd4f-655c394fbdab"
   },
   "outputs": [
    {
     "data": {
      "image/png": "[encoded data removed]",
      "text/plain": [
       "<Figure size 1200x800 with 1 Axes>"
      ]
     },
     "metadata": {},
     "output_type": "display_data"
    }
   ],
   "source": [
    "# Set the figure size\n",
    "plt.figure(figsize=(12, 8))  # Adjust the size as needed (width, height)\n",
    "\n",
    "# Traffic over time\n",
    "sns.lineplot(data=data, x=data.index, y='Bytes', hue='Action')\n",
    "plt.title('Traffic Volume Over Time')\n",
    "plt.savefig('Traffic Volume Over Time.png')\n",
    "plt.show()"
   ]
  },
  {
   "cell_type": "code",
   "execution_count": 12,
   "id": "5c672b9b-0219-45dc-8228-eb1c032bec73",
   "metadata": {
    "colab": {
     "base_uri": "https://localhost:8080/",
     "height": 718
    },
    "executionInfo": {
     "elapsed": 7653,
     "status": "ok",
     "timestamp": 1736365318759,
     "user": {
      "displayName": "nilesh borana",
      "userId": "07385060709907603481"
     },
     "user_tz": -330
    },
    "id": "5c672b9b-0219-45dc-8228-eb1c032bec73",
    "outputId": "825e336b-1774-43c3-b3d0-0ab2888d572e"
   },
   "outputs": [
    {
     "data": {
      "image/png": "[encoded data removed]",
      "text/plain": [
       "<Figure size 1200x800 with 1 Axes>"
      ]
     },
     "metadata": {},
     "output_type": "display_data"
    }
   ],
   "source": [
    "# Set the figure size\n",
    "plt.figure(figsize=(12, 8))  # Adjust the size as needed (width, height)\n",
    "\n",
    "# Packet analysis\n",
    "sns.scatterplot(data=data, x='pkts_sent', y='pkts_received', hue='Action')\n",
    "plt.title('Packets Sent vs Received')\n",
    "plt.savefig('Packets Sent vs Received.png')\n",
    "plt.show()"
   ]
  },
  {
   "cell_type": "code",
   "execution_count": 13,
   "id": "819942ee-bdbb-48f4-8e2e-390f9f386481",
   "metadata": {
    "colab": {
     "base_uri": "https://localhost:8080/",
     "height": 651
    },
    "executionInfo": {
     "elapsed": 22,
     "status": "ok",
     "timestamp": 1736365318760,
     "user": {
      "displayName": "nilesh borana",
      "userId": "07385060709907603481"
     },
     "user_tz": -330
    },
    "id": "819942ee-bdbb-48f4-8e2e-390f9f386481",
    "outputId": "ed468e92-cc7a-4109-d587-f3a18c25cf83"
   },
   "outputs": [
    {
     "data": {
      "image/png": "[encoded data removed]",
      "text/plain": [
       "<Figure size 1000x600 with 1 Axes>"
      ]
     },
     "metadata": {},
     "output_type": "display_data"
    }
   ],
   "source": [
    "# Top Source Ports\n",
    "plt.figure(figsize=(10, 6))\n",
    "top_src_ports = data['Source Port'].value_counts().head(10)\n",
    "sns.barplot(x=top_src_ports.index, y=top_src_ports.values, palette='viridis')\n",
    "plt.title(\"Top Source Ports\")\n",
    "plt.xlabel(\"Source Port\")\n",
    "plt.ylabel(\"Frequency\")\n",
    "plt.savefig('Top Source Ports.png')\n",
    "plt.show()"
   ]
  },
  {
   "cell_type": "markdown",
   "id": "71238565",
   "metadata": {
    "id": "71238565"
   },
   "source": [
    "## Observations from the data"
   ]
  },
  {
   "cell_type": "markdown",
   "id": "873d6ccf-051e-4b58-8a9f-5f609b7876d2",
   "metadata": {
    "id": "873d6ccf-051e-4b58-8a9f-5f609b7876d2"
   },
   "source": [
    "# 1. Action: \"Allow\"\n",
    "#    - Scenario 1: Bytes sent and received are nearly equal, with pkts_sent and pkts_received also equal.\n",
    "#    - Scenario 2: Bytes sent and received differ, with pkts_sent and pkts_received close but not equal.\n",
    "\n",
    "# 2. Action: \"Deny\"\n",
    "#    - Scenario 1: Bytes sent is non-zero, but bytes received is zero; pkts_sent is 1, and pkts_received is 0.\n",
    "#    - Scenario 2: Bytes sent and received differ, with pkts_sent and pkts_received being equal.\n",
    "\n",
    "# 3. Action: \"Drop\"\n",
    "#    - Bytes sent is non-zero, but bytes received is zero; pkts_sent is 1, and pkts_received is 0.\n",
    "\n",
    "# 4. Action: \"Reset-Both\"\n",
    "#    - Scenario 1: Bytes sent is non-zero, but bytes received is zero; pkts_sent is 1, and pkts_received is 0.\n",
    "#    - Scenario 2: Bytes sent and received differ, with pkts_sent greater than pkts_received.\n",
    "\n",
    "# These observations highlight patterns in packet transmission for different actions,\n",
    "# which could be useful for identifying trends or anomalies in the data.\n"
   ]
  },
  {
   "cell_type": "code",
   "execution_count": 14,
   "id": "88ed0ad7-46c0-462e-9d21-f0ff5663aacb",
   "metadata": {
    "executionInfo": {
     "elapsed": 18,
     "status": "ok",
     "timestamp": 1736365318761,
     "user": {
      "displayName": "nilesh borana",
      "userId": "07385060709907603481"
     },
     "user_tz": -330
    },
    "id": "88ed0ad7-46c0-462e-9d21-f0ff5663aacb"
   },
   "outputs": [],
   "source": [
    "data1 = data.copy()"
   ]
  },
  {
   "cell_type": "code",
   "execution_count": 15,
   "id": "819a7ec8-59c5-48ea-ba1f-6235175c1768",
   "metadata": {
    "colab": {
     "base_uri": "https://localhost:8080/",
     "height": 424
    },
    "executionInfo": {
     "elapsed": 18,
     "status": "ok",
     "timestamp": 1736365318761,
     "user": {
      "displayName": "nilesh borana",
      "userId": "07385060709907603481"
     },
     "user_tz": -330
    },
    "id": "819a7ec8-59c5-48ea-ba1f-6235175c1768",
    "outputId": "464cabe1-4b67-485e-8be7-8eba6057717c"
   },
   "outputs": [
    {
     "data": {
      "text/html": [
       "<div>\n",
       "<style scoped>\n",
       "    .dataframe tbody tr th:only-of-type {\n",
       "        vertical-align: middle;\n",
       "    }\n",
       "\n",
       "    .dataframe tbody tr th {\n",
       "        vertical-align: top;\n",
       "    }\n",
       "\n",
       "    .dataframe thead th {\n",
       "        text-align: right;\n",
       "    }\n",
       "</style>\n",
       "<table border=\"1\" class=\"dataframe\">\n",
       "  <thead>\n",
       "    <tr style=\"text-align: right;\">\n",
       "      <th></th>\n",
       "      <th>Source Port</th>\n",
       "      <th>Destination Port</th>\n",
       "      <th>NAT Source Port</th>\n",
       "      <th>NAT Destination Port</th>\n",
       "      <th>Action</th>\n",
       "      <th>Bytes</th>\n",
       "      <th>Bytes Sent</th>\n",
       "      <th>Bytes Received</th>\n",
       "      <th>Packets</th>\n",
       "      <th>Elapsed Time (sec)</th>\n",
       "      <th>pkts_sent</th>\n",
       "      <th>pkts_received</th>\n",
       "    </tr>\n",
       "  </thead>\n",
       "  <tbody>\n",
       "    <tr>\n",
       "      <th>0</th>\n",
       "      <td>57222</td>\n",
       "      <td>53</td>\n",
       "      <td>54587</td>\n",
       "      <td>53</td>\n",
       "      <td>allow</td>\n",
       "      <td>177</td>\n",
       "      <td>94</td>\n",
       "      <td>83</td>\n",
       "      <td>2</td>\n",
       "      <td>30</td>\n",
       "      <td>1</td>\n",
       "      <td>1</td>\n",
       "    </tr>\n",
       "    <tr>\n",
       "      <th>1</th>\n",
       "      <td>56258</td>\n",
       "      <td>3389</td>\n",
       "      <td>56258</td>\n",
       "      <td>3389</td>\n",
       "      <td>allow</td>\n",
       "      <td>4768</td>\n",
       "      <td>1600</td>\n",
       "      <td>3168</td>\n",
       "      <td>19</td>\n",
       "      <td>17</td>\n",
       "      <td>10</td>\n",
       "      <td>9</td>\n",
       "    </tr>\n",
       "    <tr>\n",
       "      <th>2</th>\n",
       "      <td>6881</td>\n",
       "      <td>50321</td>\n",
       "      <td>43265</td>\n",
       "      <td>50321</td>\n",
       "      <td>allow</td>\n",
       "      <td>238</td>\n",
       "      <td>118</td>\n",
       "      <td>120</td>\n",
       "      <td>2</td>\n",
       "      <td>1199</td>\n",
       "      <td>1</td>\n",
       "      <td>1</td>\n",
       "    </tr>\n",
       "    <tr>\n",
       "      <th>3</th>\n",
       "      <td>50553</td>\n",
       "      <td>3389</td>\n",
       "      <td>50553</td>\n",
       "      <td>3389</td>\n",
       "      <td>allow</td>\n",
       "      <td>3327</td>\n",
       "      <td>1438</td>\n",
       "      <td>1889</td>\n",
       "      <td>15</td>\n",
       "      <td>17</td>\n",
       "      <td>8</td>\n",
       "      <td>7</td>\n",
       "    </tr>\n",
       "    <tr>\n",
       "      <th>4</th>\n",
       "      <td>50002</td>\n",
       "      <td>443</td>\n",
       "      <td>45848</td>\n",
       "      <td>443</td>\n",
       "      <td>allow</td>\n",
       "      <td>25358</td>\n",
       "      <td>6778</td>\n",
       "      <td>18580</td>\n",
       "      <td>31</td>\n",
       "      <td>16</td>\n",
       "      <td>13</td>\n",
       "      <td>18</td>\n",
       "    </tr>\n",
       "    <tr>\n",
       "      <th>...</th>\n",
       "      <td>...</td>\n",
       "      <td>...</td>\n",
       "      <td>...</td>\n",
       "      <td>...</td>\n",
       "      <td>...</td>\n",
       "      <td>...</td>\n",
       "      <td>...</td>\n",
       "      <td>...</td>\n",
       "      <td>...</td>\n",
       "      <td>...</td>\n",
       "      <td>...</td>\n",
       "      <td>...</td>\n",
       "    </tr>\n",
       "    <tr>\n",
       "      <th>65527</th>\n",
       "      <td>63691</td>\n",
       "      <td>80</td>\n",
       "      <td>13237</td>\n",
       "      <td>80</td>\n",
       "      <td>allow</td>\n",
       "      <td>314</td>\n",
       "      <td>192</td>\n",
       "      <td>122</td>\n",
       "      <td>6</td>\n",
       "      <td>15</td>\n",
       "      <td>4</td>\n",
       "      <td>2</td>\n",
       "    </tr>\n",
       "    <tr>\n",
       "      <th>65528</th>\n",
       "      <td>50964</td>\n",
       "      <td>80</td>\n",
       "      <td>13485</td>\n",
       "      <td>80</td>\n",
       "      <td>allow</td>\n",
       "      <td>4680740</td>\n",
       "      <td>67312</td>\n",
       "      <td>4613428</td>\n",
       "      <td>4675</td>\n",
       "      <td>77</td>\n",
       "      <td>985</td>\n",
       "      <td>3690</td>\n",
       "    </tr>\n",
       "    <tr>\n",
       "      <th>65529</th>\n",
       "      <td>54871</td>\n",
       "      <td>445</td>\n",
       "      <td>0</td>\n",
       "      <td>0</td>\n",
       "      <td>drop</td>\n",
       "      <td>70</td>\n",
       "      <td>70</td>\n",
       "      <td>0</td>\n",
       "      <td>1</td>\n",
       "      <td>0</td>\n",
       "      <td>1</td>\n",
       "      <td>0</td>\n",
       "    </tr>\n",
       "    <tr>\n",
       "      <th>65530</th>\n",
       "      <td>54870</td>\n",
       "      <td>445</td>\n",
       "      <td>0</td>\n",
       "      <td>0</td>\n",
       "      <td>drop</td>\n",
       "      <td>70</td>\n",
       "      <td>70</td>\n",
       "      <td>0</td>\n",
       "      <td>1</td>\n",
       "      <td>0</td>\n",
       "      <td>1</td>\n",
       "      <td>0</td>\n",
       "    </tr>\n",
       "    <tr>\n",
       "      <th>65531</th>\n",
       "      <td>54867</td>\n",
       "      <td>445</td>\n",
       "      <td>0</td>\n",
       "      <td>0</td>\n",
       "      <td>drop</td>\n",
       "      <td>70</td>\n",
       "      <td>70</td>\n",
       "      <td>0</td>\n",
       "      <td>1</td>\n",
       "      <td>0</td>\n",
       "      <td>1</td>\n",
       "      <td>0</td>\n",
       "    </tr>\n",
       "  </tbody>\n",
       "</table>\n",
       "<p>65532 rows × 12 columns</p>\n",
       "</div>"
      ],
      "text/plain": [
       "       Source Port  Destination Port  NAT Source Port  NAT Destination Port  \\\n",
       "0            57222                53            54587                    53   \n",
       "1            56258              3389            56258                  3389   \n",
       "2             6881             50321            43265                 50321   \n",
       "3            50553              3389            50553                  3389   \n",
       "4            50002               443            45848                   443   \n",
       "...            ...               ...              ...                   ...   \n",
       "65527        63691                80            13237                    80   \n",
       "65528        50964                80            13485                    80   \n",
       "65529        54871               445                0                     0   \n",
       "65530        54870               445                0                     0   \n",
       "65531        54867               445                0                     0   \n",
       "\n",
       "      Action    Bytes  Bytes Sent  Bytes Received  Packets  \\\n",
       "0      allow      177          94              83        2   \n",
       "1      allow     4768        1600            3168       19   \n",
       "2      allow      238         118             120        2   \n",
       "3      allow     3327        1438            1889       15   \n",
       "4      allow    25358        6778           18580       31   \n",
       "...      ...      ...         ...             ...      ...   \n",
       "65527  allow      314         192             122        6   \n",
       "65528  allow  4680740       67312         4613428     4675   \n",
       "65529   drop       70          70               0        1   \n",
       "65530   drop       70          70               0        1   \n",
       "65531   drop       70          70               0        1   \n",
       "\n",
       "       Elapsed Time (sec)  pkts_sent  pkts_received  \n",
       "0                      30          1              1  \n",
       "1                      17         10              9  \n",
       "2                    1199          1              1  \n",
       "3                      17          8              7  \n",
       "4                      16         13             18  \n",
       "...                   ...        ...            ...  \n",
       "65527                  15          4              2  \n",
       "65528                  77        985           3690  \n",
       "65529                   0          1              0  \n",
       "65530                   0          1              0  \n",
       "65531                   0          1              0  \n",
       "\n",
       "[65532 rows x 12 columns]"
      ]
     },
     "execution_count": 15,
     "metadata": {},
     "output_type": "execute_result"
    }
   ],
   "source": [
    "data1"
   ]
  },
  {
   "cell_type": "markdown",
   "id": "ca7cb3e7",
   "metadata": {
    "id": "ca7cb3e7"
   },
   "source": [
    "## Feature Engineering"
   ]
  },
  {
   "cell_type": "markdown",
   "id": "68435f11-aa5c-480d-b7d3-319fdc7283db",
   "metadata": {},
   "source": [
    "## Converting Elapsed Time to Timestamps\n",
    "\n",
    "### Overview\n",
    "The dataset contains a column named `Elapsed Time (sec)` that represents the time elapsed in seconds since a specific reference point. The goal is to create a new column, `Timestamp`, by converting the elapsed seconds into datetime values.\n"
   ]
  },
  {
   "cell_type": "code",
   "execution_count": 16,
   "id": "d3d77c10-b664-4764-a4a6-3bc3122b9639",
   "metadata": {
    "executionInfo": {
     "elapsed": 15,
     "status": "ok",
     "timestamp": 1736365318761,
     "user": {
      "displayName": "nilesh borana",
      "userId": "07385060709907603481"
     },
     "user_tz": -330
    },
    "id": "d3d77c10-b664-4764-a4a6-3bc3122b9639"
   },
   "outputs": [],
   "source": [
    "\n",
    "# Assuming Elapsed Time is in seconds since a fixed reference point (e.g., Unix Epoch)\n",
    "# Define the reference point (adjust as per your dataset context)\n",
    "reference_point = pd.Timestamp(\"2024-01-01 00:00:00\")  \n",
    "\n",
    "# Convert elapsed seconds to timestamps\n",
    "data1['Timestamp'] = reference_point + pd.to_timedelta(data1['Elapsed Time (sec)'], unit='s')\n"
   ]
  },
  {
   "cell_type": "code",
   "execution_count": 18,
   "id": "e638ba0a-be35-4f68-a22e-836b7aa056c2",
   "metadata": {
    "colab": {
     "base_uri": "https://localhost:8080/",
     "height": 472
    },
    "executionInfo": {
     "elapsed": 794,
     "status": "ok",
     "timestamp": 1736365320167,
     "user": {
      "displayName": "nilesh borana",
      "userId": "07385060709907603481"
     },
     "user_tz": -330
    },
    "id": "e638ba0a-be35-4f68-a22e-836b7aa056c2",
    "outputId": "1f1aec30-c672-44d3-f5c4-3fd15cd62362"
   },
   "outputs": [
    {
     "data": {
      "image/png": "[encoded data removed]",
      "text/plain": [
       "<Figure size 640x480 with 1 Axes>"
      ]
     },
     "metadata": {},
     "output_type": "display_data"
    }
   ],
   "source": [
    "# # Traffic Over Time\n",
    "# if 'Timestamp' in data.columns:\n",
    "data1['hour'] = pd.to_datetime(data1['Timestamp']).dt.hour\n",
    "hourly_traffic = data1.groupby('hour').size()\n",
    "hourly_traffic.plot(kind='line', color='skyblue')\n",
    "plt.title(\"Traffic Over Time\")\n",
    "plt.xlabel(\"Hour\")\n",
    "plt.ylabel(\"Number of Events\")\n",
    "plt.savefig('Traffic over time.png')\n",
    "plt.show()"
   ]
  },
  {
   "cell_type": "markdown",
   "id": "5a0ae971-5b29-45e3-86cb-94cca4883c03",
   "metadata": {
    "id": "5a0ae971-5b29-45e3-86cb-94cca4883c03"
   },
   "source": [
    "# Hours Summary"
   ]
  },
  {
   "cell_type": "code",
   "execution_count": 19,
   "id": "2e6e8849-79f6-4f6a-a3a4-e2444b4fa50d",
   "metadata": {
    "colab": {
     "base_uri": "https://localhost:8080/"
    },
    "executionInfo": {
     "elapsed": 442,
     "status": "ok",
     "timestamp": 1736365340500,
     "user": {
      "displayName": "nilesh borana",
      "userId": "07385060709907603481"
     },
     "user_tz": -330
    },
    "id": "2e6e8849-79f6-4f6a-a3a4-e2444b4fa50d",
    "outputId": "9dec8516-d02e-4c7e-e3ae-60eca374e742"
   },
   "outputs": [
    {
     "name": "stdout",
     "output_type": "stream",
     "text": [
      "           Bytes  Packets\n",
      "hour                     \n",
      "0     4475545026  5088549\n",
      "1      619605475   614770\n",
      "2     1269432469  1036592\n",
      "3         143727     1106\n"
     ]
    }
   ],
   "source": [
    "# Define 'time_frame' variable with a valid value, such as \"Hourly\", \"12 Hours\", or others\n",
    "time_frame = \"Hourly\"  # Replace with the desired time frame\n",
    "\n",
    "if time_frame == \"Hourly\":\n",
    "    summary = data1.groupby('hour')[['Bytes', 'Packets']].sum()\n",
    "elif time_frame == \"12 Hours\":\n",
    "    data1['12_hour'] = pd.cut(data1['hour'], bins=[0, 12, 24], labels=['0-12', '12-24'], right=False)\n",
    "    summary = data1.groupby('12_hour')[['Bytes', 'Packets']].sum()\n",
    "else:  # 24 Hours\n",
    "    summary = data1[['Bytes', 'Packets']].sum().to_frame(name=\"Total\").T\n",
    "\n",
    "print(summary)"
   ]
  },
  {
   "cell_type": "markdown",
   "id": "83e0b05f-dcd9-472d-b73f-8d9d75218576",
   "metadata": {
    "id": "83e0b05f-dcd9-472d-b73f-8d9d75218576",
    "tags": []
   },
   "source": [
    "# Error Insights\n",
    "\n",
    "## Identifying and Counting Specific Errors\n",
    "\n",
    "\n",
    "The goal is to filter rows in the dataset where the `Action` column contains specific error values (`'drop'` or `'deny'`) and calculate the total number of such errors.\n"
   ]
  },
  {
   "cell_type": "code",
   "execution_count": 20,
   "id": "0c38c9f1-c63f-4923-9164-f0fa7a6bc6d7",
   "metadata": {
    "colab": {
     "base_uri": "https://localhost:8080/"
    },
    "executionInfo": {
     "elapsed": 7,
     "status": "ok",
     "timestamp": 1736365342097,
     "user": {
      "displayName": "nilesh borana",
      "userId": "07385060709907603481"
     },
     "user_tz": -330
    },
    "id": "0c38c9f1-c63f-4923-9164-f0fa7a6bc6d7",
    "outputId": "f86099a5-ac48-4fd4-acfc-6d0277cc4c69"
   },
   "outputs": [
    {
     "name": "stdout",
     "output_type": "stream",
     "text": [
      "Total Errors: 27838\n"
     ]
    }
   ],
   "source": [
    "errors = data1[data1['Action'].isin(['drop', 'deny'])]\n",
    "print(f\"Total Errors: {len(errors)}\")"
   ]
  },
  {
   "cell_type": "markdown",
   "id": "a10b1de5-243d-4f82-9d01-7ff7c21b2f17",
   "metadata": {
    "id": "a10b1de5-243d-4f82-9d01-7ff7c21b2f17"
   },
   "source": [
    "# Total Errors: 27838"
   ]
  },
  {
   "cell_type": "markdown",
   "id": "8ca20535-259b-46b9-9f3c-e2e2b02a8245",
   "metadata": {
    "id": "8ca20535-259b-46b9-9f3c-e2e2b02a8245"
   },
   "source": [
    "#  Traffic Patterns\n",
    "\n",
    "## Calculating Average Packet Size\n",
    "\n",
    "The goal is to compute the average packet size for both sent and received data in the dataset. This is achieved by dividing the total bytes by the number of packets sent or received.\n"
   ]
  },
  {
   "cell_type": "code",
   "execution_count": 21,
   "id": "350763fa-14d6-45e9-896c-56aa8ccde630",
   "metadata": {
    "executionInfo": {
     "elapsed": 3,
     "status": "ok",
     "timestamp": 1736365343710,
     "user": {
      "displayName": "nilesh borana",
      "userId": "07385060709907603481"
     },
     "user_tz": -330
    },
    "id": "350763fa-14d6-45e9-896c-56aa8ccde630"
   },
   "outputs": [],
   "source": [
    "data1['Avg Packet Size Sent'] = data1['Bytes Sent'] / (data1['pkts_sent'] + 1e-6)\n",
    "data1['Avg Packet Size Received'] = data1['Bytes Received'] / (data1['pkts_received'] + 1e-6)"
   ]
  },
  {
   "cell_type": "markdown",
   "id": "04248121-1111-4e05-9bd0-0f8bc23836ff",
   "metadata": {
    "id": "04248121-1111-4e05-9bd0-0f8bc23836ff"
   },
   "source": [
    "## Rate Calculations\n",
    "\n",
    "### Traffic Rate (Bytes/sec)\n",
    "To calculate the **Traffic Rate** in bytes per second for each row in the dataset. The traffic rate is derived by dividing the total bytes by the elapsed time in seconds.\n"
   ]
  },
  {
   "cell_type": "code",
   "execution_count": 22,
   "id": "951e04b8-c269-4c49-bd80-bf45861aca4a",
   "metadata": {
    "executionInfo": {
     "elapsed": 11,
     "status": "ok",
     "timestamp": 1736365344938,
     "user": {
      "displayName": "nilesh borana",
      "userId": "07385060709907603481"
     },
     "user_tz": -330
    },
    "id": "951e04b8-c269-4c49-bd80-bf45861aca4a"
   },
   "outputs": [],
   "source": [
    "data1['Traffic Rate'] = data1['Bytes'] / (data1['Elapsed Time (sec)'] + 1e-6)"
   ]
  },
  {
   "cell_type": "markdown",
   "id": "981f2c31-8100-4760-8430-568db403a99c",
   "metadata": {
    "id": "981f2c31-8100-4760-8430-568db403a99c"
   },
   "source": [
    "## Rate Calculations\n",
    "\n",
    "### Packet Rate (Packets/sec)\n",
    "To calculate the **Packet Rate** in packets per second for each row in the dataset. This is achieved by dividing the total number of packets by the elapsed time in seconds.\n"
   ]
  },
  {
   "cell_type": "code",
   "execution_count": 23,
   "id": "84374c8b-37e1-439a-8302-3d652671d4f9",
   "metadata": {
    "executionInfo": {
     "elapsed": 5,
     "status": "ok",
     "timestamp": 1736365346162,
     "user": {
      "displayName": "nilesh borana",
      "userId": "07385060709907603481"
     },
     "user_tz": -330
    },
    "id": "84374c8b-37e1-439a-8302-3d652671d4f9"
   },
   "outputs": [],
   "source": [
    "data1['Packet Rate'] = data1['Packets'] / (data1['Elapsed Time (sec)'] + 1e-6)"
   ]
  },
  {
   "cell_type": "code",
   "execution_count": 24,
   "id": "028c0a2a-84ef-485a-9120-1411ffa94919",
   "metadata": {
    "colab": {
     "base_uri": "https://localhost:8080/",
     "height": 458
    },
    "executionInfo": {
     "elapsed": 12,
     "status": "ok",
     "timestamp": 1736365346606,
     "user": {
      "displayName": "nilesh borana",
      "userId": "07385060709907603481"
     },
     "user_tz": -330
    },
    "id": "028c0a2a-84ef-485a-9120-1411ffa94919",
    "outputId": "d9c12223-e737-4449-c1ad-31f64fc3b8d8"
   },
   "outputs": [
    {
     "data": {
      "text/plain": [
       "0        allow\n",
       "1        allow\n",
       "2        allow\n",
       "3        allow\n",
       "4        allow\n",
       "         ...  \n",
       "65527    allow\n",
       "65528    allow\n",
       "65529     drop\n",
       "65530     drop\n",
       "65531     drop\n",
       "Name: Action, Length: 65532, dtype: object"
      ]
     },
     "execution_count": 24,
     "metadata": {},
     "output_type": "execute_result"
    }
   ],
   "source": [
    "data1['Action'].astype(str)"
   ]
  },
  {
   "cell_type": "markdown",
   "id": "ac9e1882-342f-4b11-b541-7409fa47bfe9",
   "metadata": {},
   "source": [
    "## Action Encoding\n",
    "\n",
    "### Mapping Actions to Numerical Values\n",
    "\n",
    "To encode the categorical values in the `Action` column into numerical values for easier analysis or use in machine learning models.\n"
   ]
  },
  {
   "cell_type": "code",
   "execution_count": 25,
   "id": "43a3e1c0-a28e-47b5-b183-317e0c6caed6",
   "metadata": {
    "executionInfo": {
     "elapsed": 3,
     "status": "ok",
     "timestamp": 1736365347190,
     "user": {
      "displayName": "nilesh borana",
      "userId": "07385060709907603481"
     },
     "user_tz": -330
    },
    "id": "43a3e1c0-a28e-47b5-b183-317e0c6caed6"
   },
   "outputs": [],
   "source": [
    "action_mapping = {'drop': 0, 'deny': 1, 'allow': 2, 'reset-both': 3}\n",
    "data1['action_encoded'] = data1['Action'].map(action_mapping)"
   ]
  },
  {
   "cell_type": "markdown",
   "id": "23d3807a-3d9a-490c-8dea-be6c1fc67323",
   "metadata": {},
   "source": []
  },
  {
   "cell_type": "markdown",
   "id": "SwploNTrsfXR",
   "metadata": {
    "id": "SwploNTrsfXR"
   },
   "source": [
    "# Calculating Bytes Imbalance and Imbalance Percentage\n",
    "\n",
    "To measure the difference between bytes sent and received for each row in the dataset, both in absolute terms and as a percentage of total bytes."
   ]
  },
  {
   "cell_type": "code",
   "execution_count": 26,
   "id": "cdedabf3-1f6e-46a3-8f0c-83edc295d27e",
   "metadata": {
    "executionInfo": {
     "elapsed": 553,
     "status": "ok",
     "timestamp": 1736365381998,
     "user": {
      "displayName": "nilesh borana",
      "userId": "07385060709907603481"
     },
     "user_tz": -330
    },
    "id": "cdedabf3-1f6e-46a3-8f0c-83edc295d27e"
   },
   "outputs": [],
   "source": [
    "data1['Bytes Imbalance'] = data1['Bytes Sent'] - data1['Bytes Received']\n",
    "data1['Bytes Imbalance (%)'] = (abs(data1['Bytes Sent'] - data1['Bytes Received']) / data1['Bytes']) * 100"
   ]
  },
  {
   "cell_type": "markdown",
   "id": "bd45a797-87c9-49f2-95dd-39d3b1004b93",
   "metadata": {
    "id": "bd45a797-87c9-49f2-95dd-39d3b1004b93"
   },
   "source": [
    "# Show the distribution of Bytes Imbalance (%)"
   ]
  },
  {
   "cell_type": "code",
   "execution_count": 27,
   "id": "fd431461-f05f-4568-aae2-9305a5a75c56",
   "metadata": {
    "colab": {
     "base_uri": "https://localhost:8080/",
     "height": 718
    },
    "executionInfo": {
     "elapsed": 528,
     "status": "ok",
     "timestamp": 1736365489499,
     "user": {
      "displayName": "nilesh borana",
      "userId": "07385060709907603481"
     },
     "user_tz": -330
    },
    "id": "fd431461-f05f-4568-aae2-9305a5a75c56",
    "outputId": "e8f33124-8c22-45e5-cfcc-00888c4d8abf"
   },
   "outputs": [
    {
     "data": {
      "image/png": "[encoded data removed]",
      "text/plain": [
       "<Figure size 1200x800 with 1 Axes>"
      ]
     },
     "metadata": {},
     "output_type": "display_data"
    }
   ],
   "source": [
    "# Set the figure size\n",
    "plt.figure(figsize=(12, 8))  # Adjust the size as needed (width, height)\n",
    "\n",
    "# Histogram\n",
    "plt.hist(data1['Bytes Imbalance (%)'], bins=30, color='blue', alpha=0.7)\n",
    "plt.title(\"Distribution of Bytes Imbalance (%)\")\n",
    "plt.xlabel(\"Imbalance (%)\")\n",
    "plt.ylabel(\"Frequency\")\n",
    "plt.savefig('Distribution of Bytes Imbalance (%).png')\n",
    "plt.show()"
   ]
  },
  {
   "cell_type": "markdown",
   "id": "069b2895-e853-4e1b-a452-d3b9d433c7cb",
   "metadata": {
    "id": "069b2895-e853-4e1b-a452-d3b9d433c7cb"
   },
   "source": [
    "# Unexpected Traffic Spikes"
   ]
  },
  {
   "cell_type": "code",
   "execution_count": 28,
   "id": "mL1hz2bdxs-T",
   "metadata": {
    "colab": {
     "base_uri": "https://localhost:8080/"
    },
    "executionInfo": {
     "elapsed": 439,
     "status": "ok",
     "timestamp": 1736365492187,
     "user": {
      "displayName": "nilesh borana",
      "userId": "07385060709907603481"
     },
     "user_tz": -330
    },
    "id": "mL1hz2bdxs-T",
    "outputId": "6e13b7de-0a5e-4c35-b7a3-6bbd539237cb"
   },
   "outputs": [
    {
     "name": "stdout",
     "output_type": "stream",
     "text": [
      "Total Traffic Spikes Detected: 508\n"
     ]
    }
   ],
   "source": [
    "traffic_mean = data1['Traffic Rate'].mean()\n",
    "traffic_std = data1['Traffic Rate'].std()\n",
    "spikes = data1[data1['Traffic Rate'] > (traffic_mean + 3 * traffic_std)]\n",
    "print(f\"Total Traffic Spikes Detected: {len(spikes)}\")"
   ]
  },
  {
   "cell_type": "code",
   "execution_count": 29,
   "id": "KZ1mXTgVzPqI",
   "metadata": {
    "colab": {
     "base_uri": "https://localhost:8080/",
     "height": 718
    },
    "executionInfo": {
     "elapsed": 480,
     "status": "ok",
     "timestamp": 1736365514791,
     "user": {
      "displayName": "nilesh borana",
      "userId": "07385060709907603481"
     },
     "user_tz": -330
    },
    "id": "KZ1mXTgVzPqI",
    "outputId": "5593acd4-756b-46c1-9c9e-e50ef41287ec"
   },
   "outputs": [
    {
     "data": {
      "image/png": "[encoded data removed]",
      "text/plain": [
       "<Figure size 1200x800 with 1 Axes>"
      ]
     },
     "metadata": {},
     "output_type": "display_data"
    }
   ],
   "source": [
    "# Set the figure size\n",
    "plt.figure(figsize=(12, 8))\n",
    "\n",
    "# Box plot\n",
    "plt.boxplot(data1['Traffic Rate'], vert=False)\n",
    "plt.title(\"Total Traffic Rate Box Plot\")\n",
    "plt.xlabel(\"Total Traffic Rate\")\n",
    "plt.savefig('Total Traffic Rate Box Plot.png')\n",
    "plt.show()\n"
   ]
  },
  {
   "cell_type": "markdown",
   "id": "55657e51-4ecf-4a86-90dc-11cfefeec910",
   "metadata": {},
   "source": [
    "## Detecting Spikes in Packet Count\n",
    "\n",
    "To identify rows in the dataset where the number of packets exceeds a defined threshold, indicating potential spikes in traffic.\n"
   ]
  },
  {
   "cell_type": "code",
   "execution_count": 81,
   "id": "283e6cec-d1f5-4afa-8fd5-6e3b38373ad4",
   "metadata": {
    "colab": {
     "base_uri": "https://localhost:8080/"
    },
    "executionInfo": {
     "elapsed": 428,
     "status": "ok",
     "timestamp": 1736365541038,
     "user": {
      "displayName": "nilesh borana",
      "userId": "07385060709907603481"
     },
     "user_tz": -330
    },
    "id": "283e6cec-d1f5-4afa-8fd5-6e3b38373ad4",
    "outputId": "2bf531e1-5623-4c7d-8136-eca76344dae2"
   },
   "outputs": [
    {
     "name": "stdout",
     "output_type": "stream",
     "text": [
      "Number of spikes: 49\n"
     ]
    }
   ],
   "source": [
    "# Detect spikes\n",
    "packet_threshold = data1['Packets'].mean() + 3 * data1['Packets'].std()\n",
    "spike_rows = data1[data1['Packets'] > packet_threshold]\n",
    "\n",
    "print(f\"Number of spikes: {len(spike_rows)}\")\n"
   ]
  },
  {
   "cell_type": "markdown",
   "id": "1e3d7fcf-4bb3-4773-ad33-896b8212a436",
   "metadata": {
    "id": "1e3d7fcf-4bb3-4773-ad33-896b8212a436"
   },
   "source": [
    "Plot Total Packets against Elapsed Time (sec) or any other time dimension to visually identify spikes."
   ]
  },
  {
   "cell_type": "markdown",
   "id": "ff599a6e-084e-4bd1-838d-f5453bd45f91",
   "metadata": {
    "id": "ff599a6e-084e-4bd1-838d-f5453bd45f91"
   },
   "source": [
    "Identify outliers in Total Packets."
   ]
  },
  {
   "cell_type": "code",
   "execution_count": 31,
   "id": "96963e57-5ba3-44a4-8ab7-5cd323f0ce71",
   "metadata": {
    "colab": {
     "base_uri": "https://localhost:8080/",
     "height": 718
    },
    "executionInfo": {
     "elapsed": 518,
     "status": "ok",
     "timestamp": 1736365619362,
     "user": {
      "displayName": "nilesh borana",
      "userId": "07385060709907603481"
     },
     "user_tz": -330
    },
    "id": "96963e57-5ba3-44a4-8ab7-5cd323f0ce71",
    "outputId": "852d5aaa-3a34-44e3-c451-6514e835afa5"
   },
   "outputs": [
    {
     "data": {
      "image/png": "[encoded data removed]",
      "text/plain": [
       "<Figure size 1200x800 with 1 Axes>"
      ]
     },
     "metadata": {},
     "output_type": "display_data"
    }
   ],
   "source": [
    "# Set the figure size\n",
    "plt.figure(figsize=(12, 8))\n",
    "\n",
    "# Box plot\n",
    "plt.boxplot(data1['Packets'], vert=False)\n",
    "plt.title(\"Total Packets Box Plot\")\n",
    "plt.xlabel(\"Total Packets\")\n",
    "plt.savefig('Total Packets Box Plot.png')\n",
    "plt.show()\n"
   ]
  },
  {
   "cell_type": "markdown",
   "id": "695ffc02-ca4b-42ef-b6a8-d203d1092c7a",
   "metadata": {},
   "source": [
    "## Calculate Packet Ratio\n",
    "\n",
    "To compute the ratio of packets sent to packets received for each row in the dataset, helping analyze the balance between outgoing and incoming network traffic."
   ]
  },
  {
   "cell_type": "code",
   "execution_count": 32,
   "id": "99cf812e-46ca-4f7a-a00f-d48eae4c314e",
   "metadata": {
    "executionInfo": {
     "elapsed": 4,
     "status": "ok",
     "timestamp": 1736365619785,
     "user": {
      "displayName": "nilesh borana",
      "userId": "07385060709907603481"
     },
     "user_tz": -330
    },
    "id": "99cf812e-46ca-4f7a-a00f-d48eae4c314e"
   },
   "outputs": [],
   "source": [
    "# Calculate packet ratio\n",
    "data1['Packet Ratio'] = data1['pkts_sent'] / (data1['pkts_received'] + 1e-6)  # Avoid division by zero"
   ]
  },
  {
   "cell_type": "code",
   "execution_count": 33,
   "id": "LNwo68byI-4S",
   "metadata": {
    "colab": {
     "base_uri": "https://localhost:8080/",
     "height": 564
    },
    "executionInfo": {
     "elapsed": 837,
     "status": "ok",
     "timestamp": 1736365652384,
     "user": {
      "displayName": "nilesh borana",
      "userId": "07385060709907603481"
     },
     "user_tz": -330
    },
    "id": "LNwo68byI-4S",
    "outputId": "12ae0655-44a1-40d9-d9f9-e1cc78a8b73f"
   },
   "outputs": [
    {
     "data": {
      "image/png": "[encoded data removed]",
      "text/plain": [
       "<Figure size 1000x600 with 1 Axes>"
      ]
     },
     "metadata": {},
     "output_type": "display_data"
    }
   ],
   "source": [
    "plt.figure(figsize=(10, 6))\n",
    "plt.hist(np.log10(data1['Packet Ratio'] + 1), bins=50, color='skyblue', edgecolor='black')\n",
    "plt.title('Log-Scaled Distribution of Packet Ratios')\n",
    "plt.xlabel('Log10(Packet Ratio)')\n",
    "plt.ylabel('Frequency')\n",
    "plt.savefig('Log-Scaled Distribution of Packet Ratios.png')\n",
    "plt.show()\n"
   ]
  },
  {
   "cell_type": "markdown",
   "id": "7d865fe4-cf4f-474f-9018-62f78ce0046e",
   "metadata": {},
   "source": [
    "## Calculate Logarithmic Packet Ratio\n",
    "\n",
    "To compute the natural logarithm of the packet ratio plus one (`log(1 + Packet Ratio)`) for each row in the dataset. This transformation helps normalize the data, particularly when the `Packet Ratio` values vary widely.\n"
   ]
  },
  {
   "cell_type": "code",
   "execution_count": 82,
   "id": "Xw2y3cmJsnYr",
   "metadata": {
    "executionInfo": {
     "elapsed": 9,
     "status": "ok",
     "timestamp": 1736365652385,
     "user": {
      "displayName": "nilesh borana",
      "userId": "07385060709907603481"
     },
     "user_tz": -330
    },
    "id": "Xw2y3cmJsnYr"
   },
   "outputs": [],
   "source": [
    "data1['Log Packet Ratio'] = np.log1p(data1['Packet Ratio'])"
   ]
  },
  {
   "cell_type": "code",
   "execution_count": 83,
   "id": "zA8LwdGUuBLm",
   "metadata": {
    "colab": {
     "base_uri": "https://localhost:8080/",
     "height": 449
    },
    "executionInfo": {
     "elapsed": 972,
     "status": "ok",
     "timestamp": 1736365675091,
     "user": {
      "displayName": "nilesh borana",
      "userId": "07385060709907603481"
     },
     "user_tz": -330
    },
    "id": "zA8LwdGUuBLm",
    "outputId": "47ae2b4b-884c-4e8e-e75f-a3d2db379417"
   },
   "outputs": [
    {
     "data": {
      "image/png": "[encoded data removed]",
      "text/plain": [
       "<Figure size 640x480 with 1 Axes>"
      ]
     },
     "metadata": {},
     "output_type": "display_data"
    }
   ],
   "source": [
    "import matplotlib.pyplot as plt\n",
    "plt.hist(data1['Log Packet Ratio'], bins=50)\n",
    "plt.xlabel('Log Packet Ratio')\n",
    "plt.ylabel('Frequency')\n",
    "plt.savefig('Log Packet Ratio.png')\n",
    "plt.show()\n"
   ]
  },
  {
   "cell_type": "markdown",
   "id": "5cf5431a-f3e5-4d70-b50d-513146a71ac4",
   "metadata": {
    "id": "5cf5431a-f3e5-4d70-b50d-513146a71ac4"
   },
   "source": [
    "# Classifying Log Packet Ratio\n",
    "\n",
    "To classify the **Log Packet Ratio** into different categories based on predefined thresholds. This classification helps in evaluating the network traffic behavior and identifying critical or unusual patterns.\n",
    "\n",
    "Based on general network patterns:\n",
    "\n",
    "**Small Discrepancies (Acceptable)**:\n",
    "\n",
    "Define the range where communication is normal and balanced.\n",
    "Range: Log Packet Ratio ≈ 0 to 2\n",
    "(covers most of the normal traffic).\n",
    "\n",
    "**Moderate Discrepancies (Warning)**:\n",
    "\n",
    "Define the range where discrepancies start becoming noticeable but not yet critical.\n",
    "Range: Log Packet Ratio ≈ 2 to 12\n",
    "\n",
    "**Critical Anomalies (Actionable)**:\n",
    "\n",
    "Define the range where the discrepancies are extreme and likely indicate significant issues.\n",
    "Range: Log Packet Ratio > 12"
   ]
  },
  {
   "cell_type": "code",
   "execution_count": 84,
   "id": "01086554-8d3c-4096-9098-4bb878f3d50d",
   "metadata": {
    "executionInfo": {
     "elapsed": 9,
     "status": "ok",
     "timestamp": 1736365694194,
     "user": {
      "displayName": "nilesh borana",
      "userId": "07385060709907603481"
     },
     "user_tz": -330
    },
    "id": "01086554-8d3c-4096-9098-4bb878f3d50d"
   },
   "outputs": [],
   "source": [
    "def classify_log_packet_ratio(log_ratio):\n",
    "    if log_ratio < 2:\n",
    "        return 'Acceptable'\n",
    "    elif 2 <= log_ratio <= 12:\n",
    "        return 'Warning'\n",
    "    else:\n",
    "        return 'Critical'\n",
    "\n",
    "data1['Log Packet Ratio Label'] = data1['Log Packet Ratio'].apply(classify_log_packet_ratio)\n"
   ]
  },
  {
   "cell_type": "code",
   "execution_count": 85,
   "id": "ff80d2c2-c6f6-4d32-8f27-e2c618b661fc",
   "metadata": {
    "colab": {
     "base_uri": "https://localhost:8080/",
     "height": 449
    },
    "executionInfo": {
     "elapsed": 686,
     "status": "ok",
     "timestamp": 1736365887573,
     "user": {
      "displayName": "nilesh borana",
      "userId": "07385060709907603481"
     },
     "user_tz": -330
    },
    "id": "ff80d2c2-c6f6-4d32-8f27-e2c618b661fc",
    "outputId": "e6e8f96b-a7df-4794-aa5e-07ee488a00a5"
   },
   "outputs": [
    {
     "data": {
      "image/png": "[encoded data removed]",
      "text/plain": [
       "<Figure size 640x480 with 1 Axes>"
      ]
     },
     "metadata": {},
     "output_type": "display_data"
    }
   ],
   "source": [
    "import seaborn as sns\n",
    "sns.countplot(data=data1, x='Log Packet Ratio Label')\n",
    "# Save the plot using plt.savefig\n",
    "plt.savefig(\"Log Packet Ratio Label.png\")\n"
   ]
  },
  {
   "cell_type": "markdown",
   "id": "f663696d-36dc-43a1-af6f-0399782c3091",
   "metadata": {
    "id": "f663696d-36dc-43a1-af6f-0399782c3091"
   },
   "source": [
    "# Detecting Rare IP Activity: Source and Destination Ports\n",
    "\n",
    "To identify the **rare** source and destination ports based on their occurrence in the dataset. Rare ports can indicate unusual or suspicious traffic patterns.\n"
   ]
  },
  {
   "cell_type": "code",
   "execution_count": 38,
   "id": "00d052b5-617b-479e-aa62-ee6875fd2c74",
   "metadata": {
    "colab": {
     "base_uri": "https://localhost:8080/"
    },
    "executionInfo": {
     "elapsed": 6,
     "status": "ok",
     "timestamp": 1736365889087,
     "user": {
      "displayName": "nilesh borana",
      "userId": "07385060709907603481"
     },
     "user_tz": -330
    },
    "id": "00d052b5-617b-479e-aa62-ee6875fd2c74",
    "outputId": "1c26bf97-54c5-452f-b829-2189969657b0"
   },
   "outputs": [
    {
     "name": "stdout",
     "output_type": "stream",
     "text": [
      "Rare Source Ports:  \n",
      " 54871    1\n",
      "36887    1\n",
      "1939     1\n",
      "1940     1\n",
      "38802    1\n",
      "Name: Source Port, dtype: int64\n",
      "Rare Destination Ports: \n",
      "  22455    1\n",
      "12502    1\n",
      "42671    1\n",
      "63425    1\n",
      "25161    1\n",
      "Name: Destination Port, dtype: int64\n"
     ]
    }
   ],
   "source": [
    "rare_sources = data1['Source Port'].value_counts().nsmallest(5)\n",
    "print(f\"Rare Source Ports:  \\n {rare_sources}\")\n",
    "\n",
    "rare_destinations = data1['Destination Port'].value_counts().nsmallest(5)\n",
    "print(f\"Rare Destination Ports: \\n  {rare_destinations}\")"
   ]
  },
  {
   "cell_type": "markdown",
   "id": "svqAtacPudSa",
   "metadata": {
    "id": "svqAtacPudSa"
   },
   "source": [
    " # Anomaly Detection"
   ]
  },
  {
   "cell_type": "markdown",
   "id": "1bf28a21-dfc1-4cb1-bdcb-d1d1e8a1d676",
   "metadata": {},
   "source": [
    "# Anomaly Detection with Isolation Forest\n",
    "\n",
    "To detect anomalies in network traffic data using the **Isolation Forest** algorithm. Anomalies are flagged where the data points deviate significantly from the rest of the dataset.\n"
   ]
  },
  {
   "cell_type": "code",
   "execution_count": 39,
   "id": "9e3c5405-c6e1-4f7d-9ae5-b73aad0e94e5",
   "metadata": {
    "colab": {
     "base_uri": "https://localhost:8080/"
    },
    "executionInfo": {
     "elapsed": 1477,
     "status": "ok",
     "timestamp": 1736365893128,
     "user": {
      "displayName": "nilesh borana",
      "userId": "07385060709907603481"
     },
     "user_tz": -330
    },
    "id": "9e3c5405-c6e1-4f7d-9ae5-b73aad0e94e5",
    "outputId": "0de6904b-8e09-47ff-d55f-7edd9c18f598"
   },
   "outputs": [
    {
     "name": "stderr",
     "output_type": "stream",
     "text": [
      "/home/dataai/anaconda3/envs/myenv/lib/python3.11/site-packages/sklearn/base.py:439: UserWarning: X does not have valid feature names, but IsolationForest was fitted with feature names\n",
      "  warnings.warn(\n"
     ]
    },
    {
     "name": "stdout",
     "output_type": "stream",
     "text": [
      "Number of anomalies: 3277\n"
     ]
    }
   ],
   "source": [
    "# Define Features\n",
    "features =  ['Source Port', 'Destination Port', 'Traffic Rate', 'Packet Rate', 'Log Packet Ratio']\n",
    "X = data1[features]\n",
    "\n",
    "# Train Isolation Forest\n",
    "model = IsolationForest(contamination=0.05, random_state=42)\n",
    "data1['anomaly'] = model.fit_predict(X)\n",
    "\n",
    "# Mark Anomalies\n",
    "anomalies = data1[data1['anomaly'] == -1]\n",
    "print(f\"Number of anomalies: {len(anomalies)}\")"
   ]
  },
  {
   "cell_type": "markdown",
   "id": "9d1e49e3-bc32-4936-be54-93fd8e2b371e",
   "metadata": {
    "id": "9d1e49e3-bc32-4936-be54-93fd8e2b371e"
   },
   "source": [
    "# Number of anomalies: 3277"
   ]
  },
  {
   "cell_type": "code",
   "execution_count": 40,
   "id": "ee11986e-309f-4302-9170-85eb4c55631e",
   "metadata": {
    "executionInfo": {
     "elapsed": 2951,
     "status": "ok",
     "timestamp": 1736365898997,
     "user": {
      "displayName": "nilesh borana",
      "userId": "07385060709907603481"
     },
     "user_tz": -330
    },
    "id": "ee11986e-309f-4302-9170-85eb4c55631e"
   },
   "outputs": [],
   "source": [
    "data1.to_csv('output.csv', index=False)"
   ]
  },
  {
   "cell_type": "code",
   "execution_count": null,
   "id": "HNB4Ur1KLWuN",
   "metadata": {
    "executionInfo": {
     "elapsed": 7,
     "status": "ok",
     "timestamp": 1736365898999,
     "user": {
      "displayName": "nilesh borana",
      "userId": "07385060709907603481"
     },
     "user_tz": -330
    },
    "id": "HNB4Ur1KLWuN"
   },
   "outputs": [],
   "source": []
  },
  {
   "cell_type": "code",
   "execution_count": null,
   "id": "ce607b08-8492-42de-aa2c-35482c901719",
   "metadata": {
    "executionInfo": {
     "elapsed": 6,
     "status": "ok",
     "timestamp": 1736365898999,
     "user": {
      "displayName": "nilesh borana",
      "userId": "07385060709907603481"
     },
     "user_tz": -330
    },
    "id": "ce607b08-8492-42de-aa2c-35482c901719"
   },
   "outputs": [],
   "source": []
  },
  {
   "cell_type": "markdown",
   "id": "9c72e3f4",
   "metadata": {
    "id": "9c72e3f4"
   },
   "source": [
    "## ML Approach 1 : Machine Learning for Anomaly Detection\n",
    "\n",
    "The goal of this approach is to classify network traffic data as either normal or anomalous by identifying **Critical** and **Warning** traffic patterns. This allows for the simplification of anomaly categories and facilitates easy interpretation of results, enabling effective detection and alerting when anomalies occur."
   ]
  },
  {
   "cell_type": "code",
   "execution_count": 41,
   "id": "c7f252fc-686e-4f0e-a9de-f81448eac703",
   "metadata": {
    "executionInfo": {
     "elapsed": 5,
     "status": "ok",
     "timestamp": 1736365901634,
     "user": {
      "displayName": "nilesh borana",
      "userId": "07385060709907603481"
     },
     "user_tz": -330
    },
    "id": "c7f252fc-686e-4f0e-a9de-f81448eac703"
   },
   "outputs": [],
   "source": [
    "main_training_dataset = data1.copy()"
   ]
  },
  {
   "cell_type": "code",
   "execution_count": 42,
   "id": "de36f290-d402-4713-a665-e7756a082b00",
   "metadata": {
    "executionInfo": {
     "elapsed": 2,
     "status": "ok",
     "timestamp": 1736365902172,
     "user": {
      "displayName": "nilesh borana",
      "userId": "07385060709907603481"
     },
     "user_tz": -330
    },
    "id": "de36f290-d402-4713-a665-e7756a082b00"
   },
   "outputs": [],
   "source": [
    "# Combine Critical and Warning into one category as '1'\n",
    "main_training_dataset['Anomaly_Label'] = main_training_dataset['Log Packet Ratio Label'].apply(lambda x: 1 if x in ['Critical', 'Warning'] else 0)"
   ]
  },
  {
   "cell_type": "code",
   "execution_count": 43,
   "id": "9Aaz0pqn61qM",
   "metadata": {
    "colab": {
     "base_uri": "https://localhost:8080/",
     "height": 308
    },
    "executionInfo": {
     "elapsed": 43,
     "status": "ok",
     "timestamp": 1736365902651,
     "user": {
      "displayName": "nilesh borana",
      "userId": "07385060709907603481"
     },
     "user_tz": -330
    },
    "id": "9Aaz0pqn61qM",
    "outputId": "dcc8cfdc-d238-47cc-91c4-ba8d685d319e"
   },
   "outputs": [
    {
     "data": {
      "text/html": [
       "<div>\n",
       "<style scoped>\n",
       "    .dataframe tbody tr th:only-of-type {\n",
       "        vertical-align: middle;\n",
       "    }\n",
       "\n",
       "    .dataframe tbody tr th {\n",
       "        vertical-align: top;\n",
       "    }\n",
       "\n",
       "    .dataframe thead th {\n",
       "        text-align: right;\n",
       "    }\n",
       "</style>\n",
       "<table border=\"1\" class=\"dataframe\">\n",
       "  <thead>\n",
       "    <tr style=\"text-align: right;\">\n",
       "      <th></th>\n",
       "      <th>Source Port</th>\n",
       "      <th>Destination Port</th>\n",
       "      <th>NAT Source Port</th>\n",
       "      <th>NAT Destination Port</th>\n",
       "      <th>Action</th>\n",
       "      <th>Bytes</th>\n",
       "      <th>Bytes Sent</th>\n",
       "      <th>Bytes Received</th>\n",
       "      <th>Packets</th>\n",
       "      <th>Elapsed Time (sec)</th>\n",
       "      <th>...</th>\n",
       "      <th>Traffic Rate</th>\n",
       "      <th>Packet Rate</th>\n",
       "      <th>action_encoded</th>\n",
       "      <th>Bytes Imbalance</th>\n",
       "      <th>Bytes Imbalance (%)</th>\n",
       "      <th>Packet Ratio</th>\n",
       "      <th>Log Packet Ratio</th>\n",
       "      <th>Log Packet Ratio Label</th>\n",
       "      <th>anomaly</th>\n",
       "      <th>Anomaly_Label</th>\n",
       "    </tr>\n",
       "  </thead>\n",
       "  <tbody>\n",
       "    <tr>\n",
       "      <th>0</th>\n",
       "      <td>57222</td>\n",
       "      <td>53</td>\n",
       "      <td>54587</td>\n",
       "      <td>53</td>\n",
       "      <td>allow</td>\n",
       "      <td>177</td>\n",
       "      <td>94</td>\n",
       "      <td>83</td>\n",
       "      <td>2</td>\n",
       "      <td>30</td>\n",
       "      <td>...</td>\n",
       "      <td>5.900000</td>\n",
       "      <td>0.066667</td>\n",
       "      <td>2</td>\n",
       "      <td>11</td>\n",
       "      <td>6.214689</td>\n",
       "      <td>0.999999</td>\n",
       "      <td>0.693147</td>\n",
       "      <td>Acceptable</td>\n",
       "      <td>1</td>\n",
       "      <td>0</td>\n",
       "    </tr>\n",
       "    <tr>\n",
       "      <th>1</th>\n",
       "      <td>56258</td>\n",
       "      <td>3389</td>\n",
       "      <td>56258</td>\n",
       "      <td>3389</td>\n",
       "      <td>allow</td>\n",
       "      <td>4768</td>\n",
       "      <td>1600</td>\n",
       "      <td>3168</td>\n",
       "      <td>19</td>\n",
       "      <td>17</td>\n",
       "      <td>...</td>\n",
       "      <td>280.470572</td>\n",
       "      <td>1.117647</td>\n",
       "      <td>2</td>\n",
       "      <td>-1568</td>\n",
       "      <td>32.885906</td>\n",
       "      <td>1.111111</td>\n",
       "      <td>0.747214</td>\n",
       "      <td>Acceptable</td>\n",
       "      <td>1</td>\n",
       "      <td>0</td>\n",
       "    </tr>\n",
       "    <tr>\n",
       "      <th>2</th>\n",
       "      <td>6881</td>\n",
       "      <td>50321</td>\n",
       "      <td>43265</td>\n",
       "      <td>50321</td>\n",
       "      <td>allow</td>\n",
       "      <td>238</td>\n",
       "      <td>118</td>\n",
       "      <td>120</td>\n",
       "      <td>2</td>\n",
       "      <td>1199</td>\n",
       "      <td>...</td>\n",
       "      <td>0.198499</td>\n",
       "      <td>0.001668</td>\n",
       "      <td>2</td>\n",
       "      <td>-2</td>\n",
       "      <td>0.840336</td>\n",
       "      <td>0.999999</td>\n",
       "      <td>0.693147</td>\n",
       "      <td>Acceptable</td>\n",
       "      <td>-1</td>\n",
       "      <td>0</td>\n",
       "    </tr>\n",
       "    <tr>\n",
       "      <th>3</th>\n",
       "      <td>50553</td>\n",
       "      <td>3389</td>\n",
       "      <td>50553</td>\n",
       "      <td>3389</td>\n",
       "      <td>allow</td>\n",
       "      <td>3327</td>\n",
       "      <td>1438</td>\n",
       "      <td>1889</td>\n",
       "      <td>15</td>\n",
       "      <td>17</td>\n",
       "      <td>...</td>\n",
       "      <td>195.705871</td>\n",
       "      <td>0.882353</td>\n",
       "      <td>2</td>\n",
       "      <td>-451</td>\n",
       "      <td>13.555756</td>\n",
       "      <td>1.142857</td>\n",
       "      <td>0.762140</td>\n",
       "      <td>Acceptable</td>\n",
       "      <td>1</td>\n",
       "      <td>0</td>\n",
       "    </tr>\n",
       "    <tr>\n",
       "      <th>4</th>\n",
       "      <td>50002</td>\n",
       "      <td>443</td>\n",
       "      <td>45848</td>\n",
       "      <td>443</td>\n",
       "      <td>allow</td>\n",
       "      <td>25358</td>\n",
       "      <td>6778</td>\n",
       "      <td>18580</td>\n",
       "      <td>31</td>\n",
       "      <td>16</td>\n",
       "      <td>...</td>\n",
       "      <td>1584.874901</td>\n",
       "      <td>1.937500</td>\n",
       "      <td>2</td>\n",
       "      <td>-11802</td>\n",
       "      <td>46.541525</td>\n",
       "      <td>0.722222</td>\n",
       "      <td>0.543615</td>\n",
       "      <td>Acceptable</td>\n",
       "      <td>1</td>\n",
       "      <td>0</td>\n",
       "    </tr>\n",
       "  </tbody>\n",
       "</table>\n",
       "<p>5 rows × 26 columns</p>\n",
       "</div>"
      ],
      "text/plain": [
       "   Source Port  Destination Port  NAT Source Port  NAT Destination Port  \\\n",
       "0        57222                53            54587                    53   \n",
       "1        56258              3389            56258                  3389   \n",
       "2         6881             50321            43265                 50321   \n",
       "3        50553              3389            50553                  3389   \n",
       "4        50002               443            45848                   443   \n",
       "\n",
       "  Action  Bytes  Bytes Sent  Bytes Received  Packets  Elapsed Time (sec)  ...  \\\n",
       "0  allow    177          94              83        2                  30  ...   \n",
       "1  allow   4768        1600            3168       19                  17  ...   \n",
       "2  allow    238         118             120        2                1199  ...   \n",
       "3  allow   3327        1438            1889       15                  17  ...   \n",
       "4  allow  25358        6778           18580       31                  16  ...   \n",
       "\n",
       "   Traffic Rate  Packet Rate action_encoded  Bytes Imbalance  \\\n",
       "0      5.900000     0.066667              2               11   \n",
       "1    280.470572     1.117647              2            -1568   \n",
       "2      0.198499     0.001668              2               -2   \n",
       "3    195.705871     0.882353              2             -451   \n",
       "4   1584.874901     1.937500              2           -11802   \n",
       "\n",
       "   Bytes Imbalance (%)  Packet Ratio  Log Packet Ratio  \\\n",
       "0             6.214689      0.999999          0.693147   \n",
       "1            32.885906      1.111111          0.747214   \n",
       "2             0.840336      0.999999          0.693147   \n",
       "3            13.555756      1.142857          0.762140   \n",
       "4            46.541525      0.722222          0.543615   \n",
       "\n",
       "   Log Packet Ratio Label  anomaly  Anomaly_Label  \n",
       "0              Acceptable        1              0  \n",
       "1              Acceptable        1              0  \n",
       "2              Acceptable       -1              0  \n",
       "3              Acceptable        1              0  \n",
       "4              Acceptable        1              0  \n",
       "\n",
       "[5 rows x 26 columns]"
      ]
     },
     "execution_count": 43,
     "metadata": {},
     "output_type": "execute_result"
    }
   ],
   "source": [
    "main_training_dataset.head()"
   ]
  },
  {
   "cell_type": "code",
   "execution_count": 44,
   "id": "eI7q4UQhZhle",
   "metadata": {
    "colab": {
     "base_uri": "https://localhost:8080/",
     "height": 178
    },
    "executionInfo": {
     "elapsed": 37,
     "status": "ok",
     "timestamp": 1736365902652,
     "user": {
      "displayName": "nilesh borana",
      "userId": "07385060709907603481"
     },
     "user_tz": -330
    },
    "id": "eI7q4UQhZhle",
    "outputId": "263dbd2b-16b1-4128-95fd-8062a2ddff46"
   },
   "outputs": [
    {
     "data": {
      "text/plain": [
       "0    33940\n",
       "1    31592\n",
       "Name: Anomaly_Label, dtype: int64"
      ]
     },
     "execution_count": 44,
     "metadata": {},
     "output_type": "execute_result"
    }
   ],
   "source": [
    "main_training_dataset['Anomaly_Label'].value_counts()"
   ]
  },
  {
   "cell_type": "markdown",
   "id": "jaeUaWLr4BiM",
   "metadata": {
    "id": "jaeUaWLr4BiM"
   },
   "source": [
    "# Train the model"
   ]
  },
  {
   "cell_type": "code",
   "execution_count": 57,
   "id": "DJ9b_d0t5OzJ",
   "metadata": {
    "executionInfo": {
     "elapsed": 595,
     "status": "ok",
     "timestamp": 1736365906969,
     "user": {
      "displayName": "nilesh borana",
      "userId": "07385060709907603481"
     },
     "user_tz": -330
    },
    "id": "DJ9b_d0t5OzJ"
   },
   "outputs": [],
   "source": [
    "# Features and labels\n",
    "# Prepare Data\n",
    "X = main_training_dataset[[\n",
    "    'Bytes',\n",
    "'Bytes Sent',\n",
    "'Bytes Received',\n",
    "'Packets'\t,\n",
    "'Elapsed Time (sec)',\n",
    "'pkts_sent',\n",
    "'pkts_received',\n",
    "'action_encoded']]\n",
    "\n",
    "y = main_training_dataset['Anomaly_Label']"
   ]
  },
  {
   "cell_type": "code",
   "execution_count": 58,
   "id": "AbgAOFbX2UCX",
   "metadata": {
    "executionInfo": {
     "elapsed": 3,
     "status": "ok",
     "timestamp": 1736365907676,
     "user": {
      "displayName": "nilesh borana",
      "userId": "07385060709907603481"
     },
     "user_tz": -330
    },
    "id": "AbgAOFbX2UCX"
   },
   "outputs": [],
   "source": [
    "# Split data\n",
    "X_train, X_test, y_train, y_test = train_test_split(X, y, test_size=0.2, random_state=42)"
   ]
  },
  {
   "cell_type": "code",
   "execution_count": 59,
   "id": "RhdDO2712T-M",
   "metadata": {
    "executionInfo": {
     "elapsed": 3,
     "status": "ok",
     "timestamp": 1736365908326,
     "user": {
      "displayName": "nilesh borana",
      "userId": "07385060709907603481"
     },
     "user_tz": -330
    },
    "id": "RhdDO2712T-M"
   },
   "outputs": [],
   "source": [
    "# Train model with class weights\n",
    "clf = RandomForestClassifier(random_state=42)"
   ]
  },
  {
   "cell_type": "code",
   "execution_count": 60,
   "id": "efW01gOH2T56",
   "metadata": {
    "colab": {
     "base_uri": "https://localhost:8080/",
     "height": 81
    },
    "executionInfo": {
     "elapsed": 4221,
     "status": "ok",
     "timestamp": 1736365913104,
     "user": {
      "displayName": "nilesh borana",
      "userId": "07385060709907603481"
     },
     "user_tz": -330
    },
    "id": "efW01gOH2T56",
    "outputId": "1646433f-ba70-4d4e-902d-58e446089549"
   },
   "outputs": [
    {
     "data": {
      "text/html": [
       "<style>#sk-container-id-3 {color: black;background-color: white;}#sk-container-id-3 pre{padding: 0;}#sk-container-id-3 div.sk-toggleable {background-color: white;}#sk-container-id-3 label.sk-toggleable__label {cursor: pointer;display: block;width: 100%;margin-bottom: 0;padding: 0.3em;box-sizing: border-box;text-align: center;}#sk-container-id-3 label.sk-toggleable__label-arrow:before {content: \"▸\";float: left;margin-right: 0.25em;color: #696969;}#sk-container-id-3 label.sk-toggleable__label-arrow:hover:before {color: black;}#sk-container-id-3 div.sk-estimator:hover label.sk-toggleable__label-arrow:before {color: black;}#sk-container-id-3 div.sk-toggleable__content {max-height: 0;max-width: 0;overflow: hidden;text-align: left;background-color: #f0f8ff;}#sk-container-id-3 div.sk-toggleable__content pre {margin: 0.2em;color: black;border-radius: 0.25em;background-color: #f0f8ff;}#sk-container-id-3 input.sk-toggleable__control:checked~div.sk-toggleable__content {max-height: 200px;max-width: 100%;overflow: auto;}#sk-container-id-3 input.sk-toggleable__control:checked~label.sk-toggleable__label-arrow:before {content: \"▾\";}#sk-container-id-3 div.sk-estimator input.sk-toggleable__control:checked~label.sk-toggleable__label {background-color: #d4ebff;}#sk-container-id-3 div.sk-label input.sk-toggleable__control:checked~label.sk-toggleable__label {background-color: #d4ebff;}#sk-container-id-3 input.sk-hidden--visually {border: 0;clip: rect(1px 1px 1px 1px);clip: rect(1px, 1px, 1px, 1px);height: 1px;margin: -1px;overflow: hidden;padding: 0;position: absolute;width: 1px;}#sk-container-id-3 div.sk-estimator {font-family: monospace;background-color: #f0f8ff;border: 1px dotted black;border-radius: 0.25em;box-sizing: border-box;margin-bottom: 0.5em;}#sk-container-id-3 div.sk-estimator:hover {background-color: #d4ebff;}#sk-container-id-3 div.sk-parallel-item::after {content: \"\";width: 100%;border-bottom: 1px solid gray;flex-grow: 1;}#sk-container-id-3 div.sk-label:hover label.sk-toggleable__label {background-color: #d4ebff;}#sk-container-id-3 div.sk-serial::before {content: \"\";position: absolute;border-left: 1px solid gray;box-sizing: border-box;top: 0;bottom: 0;left: 50%;z-index: 0;}#sk-container-id-3 div.sk-serial {display: flex;flex-direction: column;align-items: center;background-color: white;padding-right: 0.2em;padding-left: 0.2em;position: relative;}#sk-container-id-3 div.sk-item {position: relative;z-index: 1;}#sk-container-id-3 div.sk-parallel {display: flex;align-items: stretch;justify-content: center;background-color: white;position: relative;}#sk-container-id-3 div.sk-item::before, #sk-container-id-3 div.sk-parallel-item::before {content: \"\";position: absolute;border-left: 1px solid gray;box-sizing: border-box;top: 0;bottom: 0;left: 50%;z-index: -1;}#sk-container-id-3 div.sk-parallel-item {display: flex;flex-direction: column;z-index: 1;position: relative;background-color: white;}#sk-container-id-3 div.sk-parallel-item:first-child::after {align-self: flex-end;width: 50%;}#sk-container-id-3 div.sk-parallel-item:last-child::after {align-self: flex-start;width: 50%;}#sk-container-id-3 div.sk-parallel-item:only-child::after {width: 0;}#sk-container-id-3 div.sk-dashed-wrapped {border: 1px dashed gray;margin: 0 0.4em 0.5em 0.4em;box-sizing: border-box;padding-bottom: 0.4em;background-color: white;}#sk-container-id-3 div.sk-label label {font-family: monospace;font-weight: bold;display: inline-block;line-height: 1.2em;}#sk-container-id-3 div.sk-label-container {text-align: center;}#sk-container-id-3 div.sk-container {/* jupyter's `normalize.less` sets `[hidden] { display: none; }` but bootstrap.min.css set `[hidden] { display: none !important; }` so we also need the `!important` here to be able to override the default hidden behavior on the sphinx rendered scikit-learn.org. See: https://github.com/scikit-learn/scikit-learn/issues/21755 */display: inline-block !important;position: relative;}#sk-container-id-3 div.sk-text-repr-fallback {display: none;}</style><div id=\"sk-container-id-3\" class=\"sk-top-container\"><div class=\"sk-text-repr-fallback\"><pre>RandomForestClassifier(random_state=42)</pre><b>In a Jupyter environment, please rerun this cell to show the HTML representation or trust the notebook. <br />On GitHub, the HTML representation is unable to render, please try loading this page with nbviewer.org.</b></div><div class=\"sk-container\" hidden><div class=\"sk-item\"><div class=\"sk-estimator sk-toggleable\"><input class=\"sk-toggleable__control sk-hidden--visually\" id=\"sk-estimator-id-3\" type=\"checkbox\" checked><label for=\"sk-estimator-id-3\" class=\"sk-toggleable__label sk-toggleable__label-arrow\">RandomForestClassifier</label><div class=\"sk-toggleable__content\"><pre>RandomForestClassifier(random_state=42)</pre></div></div></div></div></div>"
      ],
      "text/plain": [
       "RandomForestClassifier(random_state=42)"
      ]
     },
     "execution_count": 60,
     "metadata": {},
     "output_type": "execute_result"
    }
   ],
   "source": [
    "clf.fit(X_train, y_train)"
   ]
  },
  {
   "cell_type": "markdown",
   "id": "uB1sNRIC9EW5",
   "metadata": {
    "id": "uB1sNRIC9EW5"
   },
   "source": [
    "# Evaluation Summary"
   ]
  },
  {
   "cell_type": "code",
   "execution_count": 61,
   "id": "vCwjLpS2-RcA",
   "metadata": {
    "colab": {
     "base_uri": "https://localhost:8080/"
    },
    "executionInfo": {
     "elapsed": 9,
     "status": "ok",
     "timestamp": 1736365913104,
     "user": {
      "displayName": "nilesh borana",
      "userId": "07385060709907603481"
     },
     "user_tz": -330
    },
    "id": "vCwjLpS2-RcA",
    "outputId": "05cac258-b0d3-40cd-b7f5-91fb7f7badd3"
   },
   "outputs": [
    {
     "name": "stdout",
     "output_type": "stream",
     "text": [
      "Accuracy: 1.00\n"
     ]
    }
   ],
   "source": [
    "# Predictions\n",
    "y_pred = clf.predict(X_test)\n",
    "y_prob = clf.predict_proba(X_test)[:, 1]  # Probabilities for the positive class (1)\n",
    "\n",
    "# 1. Accuracy\n",
    "accuracy = accuracy_score(y_test, y_pred)\n",
    "print(f\"Accuracy: {accuracy:.2f}\")"
   ]
  },
  {
   "cell_type": "code",
   "execution_count": 62,
   "id": "Ql6VOTM7-UXx",
   "metadata": {
    "colab": {
     "base_uri": "https://localhost:8080/"
    },
    "executionInfo": {
     "elapsed": 7,
     "status": "ok",
     "timestamp": 1736365913104,
     "user": {
      "displayName": "nilesh borana",
      "userId": "07385060709907603481"
     },
     "user_tz": -330
    },
    "id": "Ql6VOTM7-UXx",
    "outputId": "3b00e8a7-05cb-4f05-95e4-81de70179e26"
   },
   "outputs": [
    {
     "name": "stdout",
     "output_type": "stream",
     "text": [
      "\n",
      "Classification Report:\n",
      "              precision    recall  f1-score   support\n",
      "\n",
      "           0       1.00      1.00      1.00      6780\n",
      "           1       1.00      1.00      1.00      6327\n",
      "\n",
      "    accuracy                           1.00     13107\n",
      "   macro avg       1.00      1.00      1.00     13107\n",
      "weighted avg       1.00      1.00      1.00     13107\n",
      "\n"
     ]
    }
   ],
   "source": [
    "# 2. Precision, Recall, and F1-Score\n",
    "print(\"\\nClassification Report:\")\n",
    "print(classification_report(y_test, y_pred))"
   ]
  },
  {
   "cell_type": "code",
   "execution_count": 63,
   "id": "QlhpwPId-ZkX",
   "metadata": {
    "colab": {
     "base_uri": "https://localhost:8080/",
     "height": 564
    },
    "executionInfo": {
     "elapsed": 1028,
     "status": "ok",
     "timestamp": 1736365955731,
     "user": {
      "displayName": "nilesh borana",
      "userId": "07385060709907603481"
     },
     "user_tz": -330
    },
    "id": "QlhpwPId-ZkX",
    "outputId": "d2fbd51b-f8ae-44bc-c36d-bf75c72a49e8"
   },
   "outputs": [
    {
     "data": {
      "image/png": "[encoded data removed]",
      "text/plain": [
       "<Figure size 800x600 with 2 Axes>"
      ]
     },
     "metadata": {},
     "output_type": "display_data"
    }
   ],
   "source": [
    "# 3. Confusion Matrix\n",
    "conf_matrix = confusion_matrix(y_test, y_pred)\n",
    "plt.figure(figsize=(8, 6))\n",
    "sns.heatmap(conf_matrix, annot=True, fmt='d', cmap='Blues', xticklabels=clf.classes_, yticklabels=clf.classes_)\n",
    "plt.xlabel(\"Predicted\")\n",
    "plt.ylabel(\"Actual\")\n",
    "plt.title(\"Confusion Matrix\")\n",
    "plt.savefig(\"Confusion Matrix Approach1.png\")\n",
    "plt.show()"
   ]
  },
  {
   "cell_type": "markdown",
   "id": "1110e74b-c65a-4acb-ab46-7260a5ea447f",
   "metadata": {
    "executionInfo": {
     "elapsed": 12,
     "status": "ok",
     "timestamp": 1736365955732,
     "user": {
      "displayName": "nilesh borana",
      "userId": "07385060709907603481"
     },
     "user_tz": -330
    },
    "id": "Dq1mOjmSvqhC"
   },
   "source": [
    "\n",
    "### Conclusion\n",
    "\n",
    "This machine learning approach successfully classifies network traffic into normal and anomalous categories. The model demonstrates excellent performance with 100% accuracy, and the results can be used to alert when network behavior deviates from the expected patterns. By simplifying the categories into a binary classification (normal vs. anomalous), the model's predictions are easy to interpret and act upon, making it a powerful tool for anomaly detection in network traffic analysis.\n"
   ]
  },
  {
   "cell_type": "code",
   "execution_count": null,
   "id": "fa2affa3-31c1-41bc-affd-869a26fea61a",
   "metadata": {},
   "outputs": [],
   "source": []
  },
  {
   "cell_type": "markdown",
   "id": "vNLTW_PRFOtM",
   "metadata": {
    "id": "vNLTW_PRFOtM"
   },
   "source": [
    "\n",
    "## ML Approach 2 : Machine Learning with Class Imbalance Handling\n",
    "\n",
    "The second approach aims to identify normal behavior and anomalies (critical/warning) in network traffic data, similar to the first approach, but with additional handling for class imbalance. This is achieved by computing class weights to give more importance to the less frequent class (anomalous traffic), improving the model's performance in detecting anomalies.\n"
   ]
  },
  {
   "cell_type": "code",
   "execution_count": 64,
   "id": "F0Ykdk7raDvH",
   "metadata": {
    "executionInfo": {
     "elapsed": 3,
     "status": "ok",
     "timestamp": 1736365957431,
     "user": {
      "displayName": "nilesh borana",
      "userId": "07385060709907603481"
     },
     "user_tz": -330
    },
    "id": "F0Ykdk7raDvH"
   },
   "outputs": [],
   "source": [
    "main_training_dataset = data1.copy()"
   ]
  },
  {
   "cell_type": "code",
   "execution_count": 65,
   "id": "eZmO2vaO7dfm",
   "metadata": {
    "executionInfo": {
     "elapsed": 6,
     "status": "ok",
     "timestamp": 1736365957905,
     "user": {
      "displayName": "nilesh borana",
      "userId": "07385060709907603481"
     },
     "user_tz": -330
    },
    "id": "eZmO2vaO7dfm"
   },
   "outputs": [],
   "source": [
    "# Combine Critical and Warning into one category as '1'\n",
    "main_training_dataset['Anomaly_Label'] = main_training_dataset['Log Packet Ratio Label'].apply(lambda x: 1 if x in ['Critical', 'Warning'] else 0)"
   ]
  },
  {
   "cell_type": "code",
   "execution_count": 66,
   "id": "PhL2Pd46_jvw",
   "metadata": {
    "colab": {
     "base_uri": "https://localhost:8080/"
    },
    "executionInfo": {
     "elapsed": 5,
     "status": "ok",
     "timestamp": 1736365958537,
     "user": {
      "displayName": "nilesh borana",
      "userId": "07385060709907603481"
     },
     "user_tz": -330
    },
    "id": "PhL2Pd46_jvw",
    "outputId": "6795d3b4-ed3c-47f8-dbc7-c91e2fa2df60"
   },
   "outputs": [
    {
     "name": "stdout",
     "output_type": "stream",
     "text": [
      "Class Weights: {0: 0.9654095462581025, 1: 1.037161306659914}\n"
     ]
    }
   ],
   "source": [
    "\n",
    "\n",
    "# Compute class weights\n",
    "class_weights = compute_class_weight(\n",
    "    class_weight='balanced',\n",
    "    classes=np.array([0, 1]),  # Convert classes to a NumPy array\n",
    "    y=main_training_dataset['Anomaly_Label']\n",
    ")\n",
    "\n",
    "# Convert to dictionary\n",
    "weights_dict = {0: class_weights[0], 1: class_weights[1]}\n",
    "\n",
    "print(\"Class Weights:\", weights_dict)\n"
   ]
  },
  {
   "cell_type": "code",
   "execution_count": 67,
   "id": "VtO0c7hx_jsI",
   "metadata": {
    "colab": {
     "base_uri": "https://localhost:8080/",
     "height": 116
    },
    "executionInfo": {
     "elapsed": 2893,
     "status": "ok",
     "timestamp": 1736365962289,
     "user": {
      "displayName": "nilesh borana",
      "userId": "07385060709907603481"
     },
     "user_tz": -330
    },
    "id": "VtO0c7hx_jsI",
    "outputId": "fb2436a0-c77c-40e7-8525-699915313a1b"
   },
   "outputs": [
    {
     "data": {
      "text/html": [
       "<style>#sk-container-id-4 {color: black;background-color: white;}#sk-container-id-4 pre{padding: 0;}#sk-container-id-4 div.sk-toggleable {background-color: white;}#sk-container-id-4 label.sk-toggleable__label {cursor: pointer;display: block;width: 100%;margin-bottom: 0;padding: 0.3em;box-sizing: border-box;text-align: center;}#sk-container-id-4 label.sk-toggleable__label-arrow:before {content: \"▸\";float: left;margin-right: 0.25em;color: #696969;}#sk-container-id-4 label.sk-toggleable__label-arrow:hover:before {color: black;}#sk-container-id-4 div.sk-estimator:hover label.sk-toggleable__label-arrow:before {color: black;}#sk-container-id-4 div.sk-toggleable__content {max-height: 0;max-width: 0;overflow: hidden;text-align: left;background-color: #f0f8ff;}#sk-container-id-4 div.sk-toggleable__content pre {margin: 0.2em;color: black;border-radius: 0.25em;background-color: #f0f8ff;}#sk-container-id-4 input.sk-toggleable__control:checked~div.sk-toggleable__content {max-height: 200px;max-width: 100%;overflow: auto;}#sk-container-id-4 input.sk-toggleable__control:checked~label.sk-toggleable__label-arrow:before {content: \"▾\";}#sk-container-id-4 div.sk-estimator input.sk-toggleable__control:checked~label.sk-toggleable__label {background-color: #d4ebff;}#sk-container-id-4 div.sk-label input.sk-toggleable__control:checked~label.sk-toggleable__label {background-color: #d4ebff;}#sk-container-id-4 input.sk-hidden--visually {border: 0;clip: rect(1px 1px 1px 1px);clip: rect(1px, 1px, 1px, 1px);height: 1px;margin: -1px;overflow: hidden;padding: 0;position: absolute;width: 1px;}#sk-container-id-4 div.sk-estimator {font-family: monospace;background-color: #f0f8ff;border: 1px dotted black;border-radius: 0.25em;box-sizing: border-box;margin-bottom: 0.5em;}#sk-container-id-4 div.sk-estimator:hover {background-color: #d4ebff;}#sk-container-id-4 div.sk-parallel-item::after {content: \"\";width: 100%;border-bottom: 1px solid gray;flex-grow: 1;}#sk-container-id-4 div.sk-label:hover label.sk-toggleable__label {background-color: #d4ebff;}#sk-container-id-4 div.sk-serial::before {content: \"\";position: absolute;border-left: 1px solid gray;box-sizing: border-box;top: 0;bottom: 0;left: 50%;z-index: 0;}#sk-container-id-4 div.sk-serial {display: flex;flex-direction: column;align-items: center;background-color: white;padding-right: 0.2em;padding-left: 0.2em;position: relative;}#sk-container-id-4 div.sk-item {position: relative;z-index: 1;}#sk-container-id-4 div.sk-parallel {display: flex;align-items: stretch;justify-content: center;background-color: white;position: relative;}#sk-container-id-4 div.sk-item::before, #sk-container-id-4 div.sk-parallel-item::before {content: \"\";position: absolute;border-left: 1px solid gray;box-sizing: border-box;top: 0;bottom: 0;left: 50%;z-index: -1;}#sk-container-id-4 div.sk-parallel-item {display: flex;flex-direction: column;z-index: 1;position: relative;background-color: white;}#sk-container-id-4 div.sk-parallel-item:first-child::after {align-self: flex-end;width: 50%;}#sk-container-id-4 div.sk-parallel-item:last-child::after {align-self: flex-start;width: 50%;}#sk-container-id-4 div.sk-parallel-item:only-child::after {width: 0;}#sk-container-id-4 div.sk-dashed-wrapped {border: 1px dashed gray;margin: 0 0.4em 0.5em 0.4em;box-sizing: border-box;padding-bottom: 0.4em;background-color: white;}#sk-container-id-4 div.sk-label label {font-family: monospace;font-weight: bold;display: inline-block;line-height: 1.2em;}#sk-container-id-4 div.sk-label-container {text-align: center;}#sk-container-id-4 div.sk-container {/* jupyter's `normalize.less` sets `[hidden] { display: none; }` but bootstrap.min.css set `[hidden] { display: none !important; }` so we also need the `!important` here to be able to override the default hidden behavior on the sphinx rendered scikit-learn.org. See: https://github.com/scikit-learn/scikit-learn/issues/21755 */display: inline-block !important;position: relative;}#sk-container-id-4 div.sk-text-repr-fallback {display: none;}</style><div id=\"sk-container-id-4\" class=\"sk-top-container\"><div class=\"sk-text-repr-fallback\"><pre>RandomForestClassifier(class_weight={0: 0.9654095462581025,\n",
       "                                     1: 1.037161306659914},\n",
       "                       random_state=42)</pre><b>In a Jupyter environment, please rerun this cell to show the HTML representation or trust the notebook. <br />On GitHub, the HTML representation is unable to render, please try loading this page with nbviewer.org.</b></div><div class=\"sk-container\" hidden><div class=\"sk-item\"><div class=\"sk-estimator sk-toggleable\"><input class=\"sk-toggleable__control sk-hidden--visually\" id=\"sk-estimator-id-4\" type=\"checkbox\" checked><label for=\"sk-estimator-id-4\" class=\"sk-toggleable__label sk-toggleable__label-arrow\">RandomForestClassifier</label><div class=\"sk-toggleable__content\"><pre>RandomForestClassifier(class_weight={0: 0.9654095462581025,\n",
       "                                     1: 1.037161306659914},\n",
       "                       random_state=42)</pre></div></div></div></div></div>"
      ],
      "text/plain": [
       "RandomForestClassifier(class_weight={0: 0.9654095462581025,\n",
       "                                     1: 1.037161306659914},\n",
       "                       random_state=42)"
      ]
     },
     "execution_count": 67,
     "metadata": {},
     "output_type": "execute_result"
    }
   ],
   "source": [
    "# Features and labels\n",
    "\n",
    "X = main_training_dataset[[\n",
    "    'Bytes',\n",
    "'Bytes Sent',\n",
    "'Bytes Received',\n",
    "'Packets'\t,\n",
    "'Elapsed Time (sec)',\n",
    "'pkts_sent',\n",
    "'pkts_received',\n",
    "'action_encoded']]\n",
    "\n",
    "y = main_training_dataset['Anomaly_Label']\n",
    "\n",
    "# Split data\n",
    "X_train, X_test, y_train, y_test = train_test_split(X, y, test_size=0.2, random_state=42)\n",
    "\n",
    "# Train model with class weights\n",
    "clf = RandomForestClassifier(class_weight=weights_dict,random_state=42)\n",
    "clf.fit(X_train, y_train)\n"
   ]
  },
  {
   "cell_type": "code",
   "execution_count": 68,
   "id": "5sHaEzNe_jof",
   "metadata": {
    "colab": {
     "base_uri": "https://localhost:8080/",
     "height": 772
    },
    "executionInfo": {
     "elapsed": 1383,
     "status": "ok",
     "timestamp": 1736365973675,
     "user": {
      "displayName": "nilesh borana",
      "userId": "07385060709907603481"
     },
     "user_tz": -330
    },
    "id": "5sHaEzNe_jof",
    "outputId": "c8860556-d800-442b-bbab-4695e5ccf812"
   },
   "outputs": [
    {
     "name": "stdout",
     "output_type": "stream",
     "text": [
      "Accuracy: 1.00\n",
      "\n",
      "Classification Report:\n",
      "              precision    recall  f1-score   support\n",
      "\n",
      "           0       1.00      1.00      1.00      6780\n",
      "           1       1.00      1.00      1.00      6327\n",
      "\n",
      "    accuracy                           1.00     13107\n",
      "   macro avg       1.00      1.00      1.00     13107\n",
      "weighted avg       1.00      1.00      1.00     13107\n",
      "\n"
     ]
    },
    {
     "data": {
      "image/png": "[encoded data removed]",
      "text/plain": [
       "<Figure size 800x600 with 2 Axes>"
      ]
     },
     "metadata": {},
     "output_type": "display_data"
    }
   ],
   "source": [
    "\n",
    "# Predictions\n",
    "y_pred = clf.predict(X_test)\n",
    "y_prob = clf.predict_proba(X_test)[:, 1]  # Probabilities for the positive class (1)\n",
    "\n",
    "# 1. Accuracy\n",
    "accuracy = accuracy_score(y_test, y_pred)\n",
    "print(f\"Accuracy: {accuracy:.2f}\")\n",
    "\n",
    "# 2. Precision, Recall, and F1-Score\n",
    "print(\"\\nClassification Report:\")\n",
    "print(classification_report(y_test, y_pred))\n",
    "\n",
    "# 3. Confusion Matrix\n",
    "conf_matrix = confusion_matrix(y_test, y_pred)\n",
    "plt.figure(figsize=(8, 6))\n",
    "sns.heatmap(conf_matrix, annot=True, fmt='d', cmap='Blues', xticklabels=clf.classes_, yticklabels=clf.classes_)\n",
    "plt.xlabel(\"Predicted\")\n",
    "plt.ylabel(\"Actual\")\n",
    "plt.title(\"Confusion Matrix\")\n",
    "plt.savefig(\"Confusion Matrix Approach2.png\")\n",
    "plt.show()"
   ]
  },
  {
   "cell_type": "markdown",
   "id": "3a3d23a9-60b7-4257-8800-2f11f2a65667",
   "metadata": {
    "executionInfo": {
     "elapsed": 4,
     "status": "ok",
     "timestamp": 1736365975089,
     "user": {
      "displayName": "nilesh borana",
      "userId": "07385060709907603481"
     },
     "user_tz": -330
    },
    "id": "F1Zgh6d2vsaf"
   },
   "source": [
    "### Conclusion\n",
    "\n",
    "This approach improves upon the first by incorporating class weight adjustments to handle imbalanced datasets. Despite the potential imbalance between normal and anomalous traffic, the model achieved perfect accuracy and classification metrics, ensuring reliable anomaly detection in network traffic. The class weight adjustment makes the model more robust, enhancing its ability to detect rare anomalous events.\n"
   ]
  },
  {
   "cell_type": "code",
   "execution_count": null,
   "id": "b268c7a0-8ecb-449f-9a3a-5cf5fd9f401a",
   "metadata": {},
   "outputs": [],
   "source": []
  },
  {
   "cell_type": "markdown",
   "id": "MpfM6-v3LZY8",
   "metadata": {
    "id": "MpfM6-v3LZY8"
   },
   "source": [
    "## ML Approach 3 : Multi-Class Classification with Class Weight Handling\n",
    "\n",
    "The third approach aims to classify network traffic data into three categories: **Acceptable**, **Critical**, and **Warning**. The model incorporates class weight adjustments to handle the imbalance in the distribution of traffic labels. The **Warning** category is highly underrepresented, and handling this imbalance helps improve the model's ability to classify anomalies.\n"
   ]
  },
  {
   "cell_type": "code",
   "execution_count": 69,
   "id": "XEJLnuaqN4s6",
   "metadata": {
    "executionInfo": {
     "elapsed": 620,
     "status": "ok",
     "timestamp": 1736365977813,
     "user": {
      "displayName": "nilesh borana",
      "userId": "07385060709907603481"
     },
     "user_tz": -330
    },
    "id": "XEJLnuaqN4s6"
   },
   "outputs": [],
   "source": [
    "main_multi_training_dataset = data1.copy()"
   ]
  },
  {
   "cell_type": "code",
   "execution_count": 70,
   "id": "iE0lggMCPRNC",
   "metadata": {
    "colab": {
     "base_uri": "https://localhost:8080/",
     "height": 210
    },
    "executionInfo": {
     "elapsed": 20,
     "status": "ok",
     "timestamp": 1736365978695,
     "user": {
      "displayName": "nilesh borana",
      "userId": "07385060709907603481"
     },
     "user_tz": -330
    },
    "id": "iE0lggMCPRNC",
    "outputId": "da82d747-e854-43da-a5ad-7608880924b4"
   },
   "outputs": [
    {
     "data": {
      "text/plain": [
       "Acceptable    33940\n",
       "Critical      31574\n",
       "Warning          18\n",
       "Name: Log Packet Ratio Label, dtype: int64"
      ]
     },
     "execution_count": 70,
     "metadata": {},
     "output_type": "execute_result"
    }
   ],
   "source": [
    "main_multi_training_dataset['Log Packet Ratio Label'].value_counts()"
   ]
  },
  {
   "cell_type": "code",
   "execution_count": 71,
   "id": "NYyqkF-Lbjfa",
   "metadata": {
    "executionInfo": {
     "elapsed": 8,
     "status": "ok",
     "timestamp": 1736365980444,
     "user": {
      "displayName": "nilesh borana",
      "userId": "07385060709907603481"
     },
     "user_tz": -330
    },
    "id": "NYyqkF-Lbjfa"
   },
   "outputs": [],
   "source": [
    "# Encode categorical labels across the entire dataset\n",
    "label_encoder = LabelEncoder()\n",
    "main_multi_training_dataset['Encoded_Label'] = label_encoder.fit_transform(main_multi_training_dataset['Log Packet Ratio Label'])"
   ]
  },
  {
   "cell_type": "code",
   "execution_count": 72,
   "id": "cBpX2PrEbsux",
   "metadata": {
    "colab": {
     "base_uri": "https://localhost:8080/",
     "height": 308
    },
    "executionInfo": {
     "elapsed": 14,
     "status": "ok",
     "timestamp": 1736365982354,
     "user": {
      "displayName": "nilesh borana",
      "userId": "07385060709907603481"
     },
     "user_tz": -330
    },
    "id": "cBpX2PrEbsux",
    "outputId": "a9383ccb-e726-433c-f27c-4b7efe5a8300"
   },
   "outputs": [
    {
     "data": {
      "text/html": [
       "<div>\n",
       "<style scoped>\n",
       "    .dataframe tbody tr th:only-of-type {\n",
       "        vertical-align: middle;\n",
       "    }\n",
       "\n",
       "    .dataframe tbody tr th {\n",
       "        vertical-align: top;\n",
       "    }\n",
       "\n",
       "    .dataframe thead th {\n",
       "        text-align: right;\n",
       "    }\n",
       "</style>\n",
       "<table border=\"1\" class=\"dataframe\">\n",
       "  <thead>\n",
       "    <tr style=\"text-align: right;\">\n",
       "      <th></th>\n",
       "      <th>Source Port</th>\n",
       "      <th>Destination Port</th>\n",
       "      <th>NAT Source Port</th>\n",
       "      <th>NAT Destination Port</th>\n",
       "      <th>Action</th>\n",
       "      <th>Bytes</th>\n",
       "      <th>Bytes Sent</th>\n",
       "      <th>Bytes Received</th>\n",
       "      <th>Packets</th>\n",
       "      <th>Elapsed Time (sec)</th>\n",
       "      <th>...</th>\n",
       "      <th>Traffic Rate</th>\n",
       "      <th>Packet Rate</th>\n",
       "      <th>action_encoded</th>\n",
       "      <th>Bytes Imbalance</th>\n",
       "      <th>Bytes Imbalance (%)</th>\n",
       "      <th>Packet Ratio</th>\n",
       "      <th>Log Packet Ratio</th>\n",
       "      <th>Log Packet Ratio Label</th>\n",
       "      <th>anomaly</th>\n",
       "      <th>Encoded_Label</th>\n",
       "    </tr>\n",
       "  </thead>\n",
       "  <tbody>\n",
       "    <tr>\n",
       "      <th>0</th>\n",
       "      <td>57222</td>\n",
       "      <td>53</td>\n",
       "      <td>54587</td>\n",
       "      <td>53</td>\n",
       "      <td>allow</td>\n",
       "      <td>177</td>\n",
       "      <td>94</td>\n",
       "      <td>83</td>\n",
       "      <td>2</td>\n",
       "      <td>30</td>\n",
       "      <td>...</td>\n",
       "      <td>5.900000</td>\n",
       "      <td>0.066667</td>\n",
       "      <td>2</td>\n",
       "      <td>11</td>\n",
       "      <td>6.214689</td>\n",
       "      <td>0.999999</td>\n",
       "      <td>0.693147</td>\n",
       "      <td>Acceptable</td>\n",
       "      <td>1</td>\n",
       "      <td>0</td>\n",
       "    </tr>\n",
       "    <tr>\n",
       "      <th>1</th>\n",
       "      <td>56258</td>\n",
       "      <td>3389</td>\n",
       "      <td>56258</td>\n",
       "      <td>3389</td>\n",
       "      <td>allow</td>\n",
       "      <td>4768</td>\n",
       "      <td>1600</td>\n",
       "      <td>3168</td>\n",
       "      <td>19</td>\n",
       "      <td>17</td>\n",
       "      <td>...</td>\n",
       "      <td>280.470572</td>\n",
       "      <td>1.117647</td>\n",
       "      <td>2</td>\n",
       "      <td>-1568</td>\n",
       "      <td>32.885906</td>\n",
       "      <td>1.111111</td>\n",
       "      <td>0.747214</td>\n",
       "      <td>Acceptable</td>\n",
       "      <td>1</td>\n",
       "      <td>0</td>\n",
       "    </tr>\n",
       "    <tr>\n",
       "      <th>2</th>\n",
       "      <td>6881</td>\n",
       "      <td>50321</td>\n",
       "      <td>43265</td>\n",
       "      <td>50321</td>\n",
       "      <td>allow</td>\n",
       "      <td>238</td>\n",
       "      <td>118</td>\n",
       "      <td>120</td>\n",
       "      <td>2</td>\n",
       "      <td>1199</td>\n",
       "      <td>...</td>\n",
       "      <td>0.198499</td>\n",
       "      <td>0.001668</td>\n",
       "      <td>2</td>\n",
       "      <td>-2</td>\n",
       "      <td>0.840336</td>\n",
       "      <td>0.999999</td>\n",
       "      <td>0.693147</td>\n",
       "      <td>Acceptable</td>\n",
       "      <td>-1</td>\n",
       "      <td>0</td>\n",
       "    </tr>\n",
       "    <tr>\n",
       "      <th>3</th>\n",
       "      <td>50553</td>\n",
       "      <td>3389</td>\n",
       "      <td>50553</td>\n",
       "      <td>3389</td>\n",
       "      <td>allow</td>\n",
       "      <td>3327</td>\n",
       "      <td>1438</td>\n",
       "      <td>1889</td>\n",
       "      <td>15</td>\n",
       "      <td>17</td>\n",
       "      <td>...</td>\n",
       "      <td>195.705871</td>\n",
       "      <td>0.882353</td>\n",
       "      <td>2</td>\n",
       "      <td>-451</td>\n",
       "      <td>13.555756</td>\n",
       "      <td>1.142857</td>\n",
       "      <td>0.762140</td>\n",
       "      <td>Acceptable</td>\n",
       "      <td>1</td>\n",
       "      <td>0</td>\n",
       "    </tr>\n",
       "    <tr>\n",
       "      <th>4</th>\n",
       "      <td>50002</td>\n",
       "      <td>443</td>\n",
       "      <td>45848</td>\n",
       "      <td>443</td>\n",
       "      <td>allow</td>\n",
       "      <td>25358</td>\n",
       "      <td>6778</td>\n",
       "      <td>18580</td>\n",
       "      <td>31</td>\n",
       "      <td>16</td>\n",
       "      <td>...</td>\n",
       "      <td>1584.874901</td>\n",
       "      <td>1.937500</td>\n",
       "      <td>2</td>\n",
       "      <td>-11802</td>\n",
       "      <td>46.541525</td>\n",
       "      <td>0.722222</td>\n",
       "      <td>0.543615</td>\n",
       "      <td>Acceptable</td>\n",
       "      <td>1</td>\n",
       "      <td>0</td>\n",
       "    </tr>\n",
       "  </tbody>\n",
       "</table>\n",
       "<p>5 rows × 26 columns</p>\n",
       "</div>"
      ],
      "text/plain": [
       "   Source Port  Destination Port  NAT Source Port  NAT Destination Port  \\\n",
       "0        57222                53            54587                    53   \n",
       "1        56258              3389            56258                  3389   \n",
       "2         6881             50321            43265                 50321   \n",
       "3        50553              3389            50553                  3389   \n",
       "4        50002               443            45848                   443   \n",
       "\n",
       "  Action  Bytes  Bytes Sent  Bytes Received  Packets  Elapsed Time (sec)  ...  \\\n",
       "0  allow    177          94              83        2                  30  ...   \n",
       "1  allow   4768        1600            3168       19                  17  ...   \n",
       "2  allow    238         118             120        2                1199  ...   \n",
       "3  allow   3327        1438            1889       15                  17  ...   \n",
       "4  allow  25358        6778           18580       31                  16  ...   \n",
       "\n",
       "   Traffic Rate  Packet Rate action_encoded  Bytes Imbalance  \\\n",
       "0      5.900000     0.066667              2               11   \n",
       "1    280.470572     1.117647              2            -1568   \n",
       "2      0.198499     0.001668              2               -2   \n",
       "3    195.705871     0.882353              2             -451   \n",
       "4   1584.874901     1.937500              2           -11802   \n",
       "\n",
       "   Bytes Imbalance (%)  Packet Ratio  Log Packet Ratio  \\\n",
       "0             6.214689      0.999999          0.693147   \n",
       "1            32.885906      1.111111          0.747214   \n",
       "2             0.840336      0.999999          0.693147   \n",
       "3            13.555756      1.142857          0.762140   \n",
       "4            46.541525      0.722222          0.543615   \n",
       "\n",
       "   Log Packet Ratio Label  anomaly  Encoded_Label  \n",
       "0              Acceptable        1              0  \n",
       "1              Acceptable        1              0  \n",
       "2              Acceptable       -1              0  \n",
       "3              Acceptable        1              0  \n",
       "4              Acceptable        1              0  \n",
       "\n",
       "[5 rows x 26 columns]"
      ]
     },
     "execution_count": 72,
     "metadata": {},
     "output_type": "execute_result"
    }
   ],
   "source": [
    "main_multi_training_dataset.head()"
   ]
  },
  {
   "cell_type": "code",
   "execution_count": 73,
   "id": "BWBoc7pCNzWt",
   "metadata": {
    "colab": {
     "base_uri": "https://localhost:8080/",
     "height": 151
    },
    "executionInfo": {
     "elapsed": 2491,
     "status": "ok",
     "timestamp": 1736365985320,
     "user": {
      "displayName": "nilesh borana",
      "userId": "07385060709907603481"
     },
     "user_tz": -330
    },
    "id": "BWBoc7pCNzWt",
    "outputId": "e23b1ff7-b111-4e60-e16f-d3049e7613fe"
   },
   "outputs": [
    {
     "name": "stdout",
     "output_type": "stream",
     "text": [
      "Class Weights: {0: 0.6436063641720684, 1: 0.6918350541584848, 2: 1213.5555555555557}\n"
     ]
    },
    {
     "data": {
      "text/html": [
       "<style>#sk-container-id-5 {color: black;background-color: white;}#sk-container-id-5 pre{padding: 0;}#sk-container-id-5 div.sk-toggleable {background-color: white;}#sk-container-id-5 label.sk-toggleable__label {cursor: pointer;display: block;width: 100%;margin-bottom: 0;padding: 0.3em;box-sizing: border-box;text-align: center;}#sk-container-id-5 label.sk-toggleable__label-arrow:before {content: \"▸\";float: left;margin-right: 0.25em;color: #696969;}#sk-container-id-5 label.sk-toggleable__label-arrow:hover:before {color: black;}#sk-container-id-5 div.sk-estimator:hover label.sk-toggleable__label-arrow:before {color: black;}#sk-container-id-5 div.sk-toggleable__content {max-height: 0;max-width: 0;overflow: hidden;text-align: left;background-color: #f0f8ff;}#sk-container-id-5 div.sk-toggleable__content pre {margin: 0.2em;color: black;border-radius: 0.25em;background-color: #f0f8ff;}#sk-container-id-5 input.sk-toggleable__control:checked~div.sk-toggleable__content {max-height: 200px;max-width: 100%;overflow: auto;}#sk-container-id-5 input.sk-toggleable__control:checked~label.sk-toggleable__label-arrow:before {content: \"▾\";}#sk-container-id-5 div.sk-estimator input.sk-toggleable__control:checked~label.sk-toggleable__label {background-color: #d4ebff;}#sk-container-id-5 div.sk-label input.sk-toggleable__control:checked~label.sk-toggleable__label {background-color: #d4ebff;}#sk-container-id-5 input.sk-hidden--visually {border: 0;clip: rect(1px 1px 1px 1px);clip: rect(1px, 1px, 1px, 1px);height: 1px;margin: -1px;overflow: hidden;padding: 0;position: absolute;width: 1px;}#sk-container-id-5 div.sk-estimator {font-family: monospace;background-color: #f0f8ff;border: 1px dotted black;border-radius: 0.25em;box-sizing: border-box;margin-bottom: 0.5em;}#sk-container-id-5 div.sk-estimator:hover {background-color: #d4ebff;}#sk-container-id-5 div.sk-parallel-item::after {content: \"\";width: 100%;border-bottom: 1px solid gray;flex-grow: 1;}#sk-container-id-5 div.sk-label:hover label.sk-toggleable__label {background-color: #d4ebff;}#sk-container-id-5 div.sk-serial::before {content: \"\";position: absolute;border-left: 1px solid gray;box-sizing: border-box;top: 0;bottom: 0;left: 50%;z-index: 0;}#sk-container-id-5 div.sk-serial {display: flex;flex-direction: column;align-items: center;background-color: white;padding-right: 0.2em;padding-left: 0.2em;position: relative;}#sk-container-id-5 div.sk-item {position: relative;z-index: 1;}#sk-container-id-5 div.sk-parallel {display: flex;align-items: stretch;justify-content: center;background-color: white;position: relative;}#sk-container-id-5 div.sk-item::before, #sk-container-id-5 div.sk-parallel-item::before {content: \"\";position: absolute;border-left: 1px solid gray;box-sizing: border-box;top: 0;bottom: 0;left: 50%;z-index: -1;}#sk-container-id-5 div.sk-parallel-item {display: flex;flex-direction: column;z-index: 1;position: relative;background-color: white;}#sk-container-id-5 div.sk-parallel-item:first-child::after {align-self: flex-end;width: 50%;}#sk-container-id-5 div.sk-parallel-item:last-child::after {align-self: flex-start;width: 50%;}#sk-container-id-5 div.sk-parallel-item:only-child::after {width: 0;}#sk-container-id-5 div.sk-dashed-wrapped {border: 1px dashed gray;margin: 0 0.4em 0.5em 0.4em;box-sizing: border-box;padding-bottom: 0.4em;background-color: white;}#sk-container-id-5 div.sk-label label {font-family: monospace;font-weight: bold;display: inline-block;line-height: 1.2em;}#sk-container-id-5 div.sk-label-container {text-align: center;}#sk-container-id-5 div.sk-container {/* jupyter's `normalize.less` sets `[hidden] { display: none; }` but bootstrap.min.css set `[hidden] { display: none !important; }` so we also need the `!important` here to be able to override the default hidden behavior on the sphinx rendered scikit-learn.org. See: https://github.com/scikit-learn/scikit-learn/issues/21755 */display: inline-block !important;position: relative;}#sk-container-id-5 div.sk-text-repr-fallback {display: none;}</style><div id=\"sk-container-id-5\" class=\"sk-top-container\"><div class=\"sk-text-repr-fallback\"><pre>RandomForestClassifier(class_weight={0: 0.6436063641720684,\n",
       "                                     1: 0.6918350541584848,\n",
       "                                     2: 1213.5555555555557},\n",
       "                       random_state=42)</pre><b>In a Jupyter environment, please rerun this cell to show the HTML representation or trust the notebook. <br />On GitHub, the HTML representation is unable to render, please try loading this page with nbviewer.org.</b></div><div class=\"sk-container\" hidden><div class=\"sk-item\"><div class=\"sk-estimator sk-toggleable\"><input class=\"sk-toggleable__control sk-hidden--visually\" id=\"sk-estimator-id-5\" type=\"checkbox\" checked><label for=\"sk-estimator-id-5\" class=\"sk-toggleable__label sk-toggleable__label-arrow\">RandomForestClassifier</label><div class=\"sk-toggleable__content\"><pre>RandomForestClassifier(class_weight={0: 0.6436063641720684,\n",
       "                                     1: 0.6918350541584848,\n",
       "                                     2: 1213.5555555555557},\n",
       "                       random_state=42)</pre></div></div></div></div></div>"
      ],
      "text/plain": [
       "RandomForestClassifier(class_weight={0: 0.6436063641720684,\n",
       "                                     1: 0.6918350541584848,\n",
       "                                     2: 1213.5555555555557},\n",
       "                       random_state=42)"
      ]
     },
     "execution_count": 73,
     "metadata": {},
     "output_type": "execute_result"
    }
   ],
   "source": [
    "# Split features and target\n",
    "\n",
    "X = main_multi_training_dataset[[\n",
    "    'Bytes',\n",
    "'Bytes Sent',\n",
    "'Bytes Received',\n",
    "'Packets'\t,\n",
    "'Elapsed Time (sec)',\n",
    "'pkts_sent',\n",
    "'pkts_received',\n",
    "'action_encoded']]\n",
    "\n",
    "y = main_multi_training_dataset['Encoded_Label']\n",
    "\n",
    "# Split into training and testing sets\n",
    "\n",
    "X_train, X_test, y_train, y_test = train_test_split(X, y, test_size=0.2, random_state=42)\n",
    "\n",
    "# Define numerical classes for class weights\n",
    "encoded_classes = np.unique(y)  # Use the entire encoded target variable\n",
    "\n",
    "# Compute class weights\n",
    "class_weights = compute_class_weight(\n",
    "    class_weight='balanced',\n",
    "    classes=encoded_classes,\n",
    "    y=y  # Use the entire encoded target variable\n",
    ")\n",
    "\n",
    "# Create a dictionary mapping encoded classes to their weights\n",
    "weights_dict = dict(zip(encoded_classes, class_weights))\n",
    "print(\"Class Weights:\", weights_dict)\n",
    "\n",
    "# Train RandomForestClassifier with class weights\n",
    "clf = RandomForestClassifier(class_weight=weights_dict, random_state=42)\n",
    "clf.fit(X_train, y_train)\n"
   ]
  },
  {
   "cell_type": "code",
   "execution_count": 74,
   "id": "1ZsWfbQbVpzd",
   "metadata": {
    "colab": {
     "base_uri": "https://localhost:8080/"
    },
    "executionInfo": {
     "elapsed": 9,
     "status": "ok",
     "timestamp": 1736365985321,
     "user": {
      "displayName": "nilesh borana",
      "userId": "07385060709907603481"
     },
     "user_tz": -330
    },
    "id": "1ZsWfbQbVpzd",
    "outputId": "f04aa2e3-404b-4196-ab84-46567293c5da"
   },
   "outputs": [
    {
     "name": "stdout",
     "output_type": "stream",
     "text": [
      "Accuracy: 1.00\n"
     ]
    }
   ],
   "source": [
    "# 1. Accuracy\n",
    "accuracy = accuracy_score(y_test, y_pred)\n",
    "print(f\"Accuracy: {accuracy:.2f}\")"
   ]
  },
  {
   "cell_type": "code",
   "execution_count": 75,
   "id": "cmg4_Zbb_jg-",
   "metadata": {
    "colab": {
     "base_uri": "https://localhost:8080/"
    },
    "executionInfo": {
     "elapsed": 8,
     "status": "ok",
     "timestamp": 1736365985321,
     "user": {
      "displayName": "nilesh borana",
      "userId": "07385060709907603481"
     },
     "user_tz": -330
    },
    "id": "cmg4_Zbb_jg-",
    "outputId": "0033b1e5-41ce-4682-857d-d0c4eb1d7f0f"
   },
   "outputs": [
    {
     "name": "stdout",
     "output_type": "stream",
     "text": [
      "              precision    recall  f1-score   support\n",
      "\n",
      "  Acceptable       1.00      1.00      1.00      6780\n",
      "    Critical       1.00      1.00      1.00      6321\n",
      "     Warning       1.00      0.33      0.50         6\n",
      "\n",
      "    accuracy                           1.00     13107\n",
      "   macro avg       1.00      0.78      0.83     13107\n",
      "weighted avg       1.00      1.00      1.00     13107\n",
      "\n"
     ]
    }
   ],
   "source": [
    "# Predict on test set\n",
    "predictions = clf.predict(X_test)\n",
    "\n",
    "# Decode predictions back to original labels\n",
    "decoded_predictions = label_encoder.inverse_transform(predictions)\n",
    "\n",
    "# Evaluate model\n",
    "\n",
    "print(classification_report(y_test, predictions, target_names=label_encoder.classes_))\n"
   ]
  },
  {
   "cell_type": "code",
   "execution_count": 77,
   "id": "XxBQZVst_jcj",
   "metadata": {
    "colab": {
     "base_uri": "https://localhost:8080/",
     "height": 564
    },
    "executionInfo": {
     "elapsed": 820,
     "status": "ok",
     "timestamp": 1736365995874,
     "user": {
      "displayName": "nilesh borana",
      "userId": "07385060709907603481"
     },
     "user_tz": -330
    },
    "id": "XxBQZVst_jcj",
    "outputId": "75801fef-f014-43d7-936c-2d9ceef24c22"
   },
   "outputs": [
    {
     "data": {
      "image/png": "[encoded data removed]",
      "text/plain": [
       "<Figure size 800x600 with 2 Axes>"
      ]
     },
     "metadata": {},
     "output_type": "display_data"
    }
   ],
   "source": [
    "# 3. Confusion Matrix\n",
    "conf_matrix = confusion_matrix(y_test, y_pred)\n",
    "plt.figure(figsize=(8, 6))\n",
    "sns.heatmap(conf_matrix, annot=True, fmt='d', cmap='Blues', xticklabels=clf.classes_, yticklabels=clf.classes_)\n",
    "plt.xlabel(\"Predicted\")\n",
    "plt.ylabel(\"Actual\")\n",
    "plt.title(\"Confusion Matrix\")\n",
    "plt.savefig(\"Confusion Matrix Approach3.png\")\n",
    "plt.show()"
   ]
  },
  {
   "cell_type": "markdown",
   "id": "7665e236-988f-4265-9d3d-5a811b6e6fac",
   "metadata": {
    "executionInfo": {
     "elapsed": 607,
     "status": "ok",
     "timestamp": 1736366013981,
     "user": {
      "displayName": "nilesh borana",
      "userId": "07385060709907603481"
     },
     "user_tz": -330
    },
    "id": "m1lT5CPi_jY_"
   },
   "source": [
    "### Conclusion\n",
    "\n",
    "In this approach, the model achieved perfect accuracy and classification for most traffic categories. However, due to the extremely low number of **Warning** samples, the recall for this category is significantly lower. The class weight handling helped to account for the class imbalance, improving the detection of rare classes, but the low number of **Warning** instances made it challenging to predict this category effectively. Despite this, the model showed robust performance in detecting **Acceptable** and **Critical** traffic.\n"
   ]
  },
  {
   "cell_type": "code",
   "execution_count": 82,
   "id": "38URVEUr_jUv",
   "metadata": {
    "executionInfo": {
     "elapsed": 8,
     "status": "ok",
     "timestamp": 1736366014425,
     "user": {
      "displayName": "nilesh borana",
      "userId": "07385060709907603481"
     },
     "user_tz": -330
    },
    "id": "38URVEUr_jUv"
   },
   "outputs": [],
   "source": []
  },
  {
   "cell_type": "code",
   "execution_count": 82,
   "id": "fvzxMudk0QrP",
   "metadata": {
    "executionInfo": {
     "elapsed": 8,
     "status": "ok",
     "timestamp": 1736366014426,
     "user": {
      "displayName": "nilesh borana",
      "userId": "07385060709907603481"
     },
     "user_tz": -330
    },
    "id": "fvzxMudk0QrP"
   },
   "outputs": [],
   "source": []
  },
  {
   "cell_type": "code",
   "execution_count": 82,
   "id": "f7738e36-156b-4068-8d1d-5df7040c12bc",
   "metadata": {
    "executionInfo": {
     "elapsed": 6,
     "status": "ok",
     "timestamp": 1736366014426,
     "user": {
      "displayName": "nilesh borana",
      "userId": "07385060709907603481"
     },
     "user_tz": -330
    },
    "id": "f7738e36-156b-4068-8d1d-5df7040c12bc"
   },
   "outputs": [],
   "source": []
  },
  {
   "cell_type": "code",
   "execution_count": 82,
   "id": "271db5c7-ed08-4d44-8d20-c3cb32390452",
   "metadata": {
    "executionInfo": {
     "elapsed": 5,
     "status": "ok",
     "timestamp": 1736366014426,
     "user": {
      "displayName": "nilesh borana",
      "userId": "07385060709907603481"
     },
     "user_tz": -330
    },
    "id": "271db5c7-ed08-4d44-8d20-c3cb32390452"
   },
   "outputs": [],
   "source": []
  }
 ],
 "metadata": {
  "colab": {
   "provenance": []
  },
  "kernelspec": {
   "display_name": "myenv",
   "language": "python",
   "name": "myenv"
  },
  "language_info": {
   "codemirror_mode": {
    "name": "ipython",
    "version": 3
   },
   "file_extension": ".py",
   "mimetype": "text/x-python",
   "name": "python",
   "nbconvert_exporter": "python",
   "pygments_lexer": "ipython3",
   "version": "3.11.4"
  }
 },
 "nbformat": 4,
 "nbformat_minor": 5
}
